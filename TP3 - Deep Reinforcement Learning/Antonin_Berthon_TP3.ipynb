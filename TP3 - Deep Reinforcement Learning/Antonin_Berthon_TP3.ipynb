{
 "cells": [
  {
   "cell_type": "markdown",
   "metadata": {},
   "source": [
    "**You may need to install [OpenCV](https://pypi.python.org/pypi/opencv-python) and [scikit-video](http://www.scikit-video.org/stable/).**"
   ]
  },
  {
   "cell_type": "code",
   "execution_count": 2,
   "metadata": {
    "scrolled": true
   },
   "outputs": [
    {
     "name": "stderr",
     "output_type": "stream",
     "text": [
      "Using TensorFlow backend.\n"
     ]
    }
   ],
   "source": [
    "import keras\n",
    "import numpy as np\n",
    "import io\n",
    "import base64\n",
    "from IPython.display import HTML\n",
    "import cv2\n",
    "import json\n",
    "\n",
    "from keras.models import Sequential,model_from_json\n",
    "from keras.layers.core import Dense\n",
    "from keras.optimizers import sgd\n",
    "from keras.layers import Conv2D, MaxPooling2D, Activation, AveragePooling2D,Reshape,BatchNormalization"
   ]
  },
  {
   "cell_type": "code",
   "execution_count": 3,
   "metadata": {},
   "outputs": [
    {
     "name": "stdout",
     "output_type": "stream",
     "text": [
      "/Users/Antonin/Desktop/ffmepg/\n",
      "b'4'.b'1-tessus'.0\n"
     ]
    }
   ],
   "source": [
    "import skvideo\n",
    "skvideo.setFFmpegPath(\"/Users/Antonin/Desktop/ffmepg/\")\n",
    "import skvideo.io\n",
    "\n",
    "# Check that FFmpeg has been found\n",
    "print(skvideo.getFFmpegPath())\n",
    "print(skvideo.getFFmpegVersion())"
   ]
  },
  {
   "cell_type": "markdown",
   "metadata": {},
   "source": [
    "# MiniProject #3: Deep Reinforcement Learning"
   ]
  },
  {
   "cell_type": "markdown",
   "metadata": {},
   "source": [
    "__Notations__: $E_p$ is the expectation under probability $p$. Please justify each of your answer and widely comment your code."
   ]
  },
  {
   "cell_type": "markdown",
   "metadata": {},
   "source": [
    "# Context"
   ]
  },
  {
   "cell_type": "markdown",
   "metadata": {},
   "source": [
    "In a reinforcement learning algorithm, we modelize each step $t$ as an action $a_t$ obtained from a state $s_t$, i.e. $\\{(a_{t},s_{t})_{t\\leq T}\\}$ having the Markov property. We consider a discount factor $\\gamma \\in [0,1]$ that ensures convergence. The goal is to find among all the policies $\\pi$, one that maximizes the expected reward:\n",
    "\n",
    "\\begin{equation*}\n",
    "R(\\pi)=\\sum_{t\\leq T}E_{p^{\\pi}}[\\gamma^t r(s_{t},a_{t})] \\> ,\n",
    "\\end{equation*}\n",
    "\n",
    "where: \n",
    "\\begin{equation*}p^{\\pi}(a_{0},a_{1},s_{1},...,a_{T},s_{T})=p(a_{0})\\prod_{t=1}^{T}\\pi(a_{t}|s_{t})p(s_{t+1}|s_{t},a_{t}) \\> .\n",
    "\\end{equation*}\n",
    "\n",
    "We note the $Q$-function:\n",
    "\n",
    "\\begin{equation*}Q^\\pi(s,a)=E_{p^{\\pi}}[\\sum_{t\\leq T}\\gamma^{t}r(s_{t},a_{t})|s_{0}=s,a_{0}=a] \\> .\n",
    "\\end{equation*}\n",
    "\n",
    "Thus, the optimal Q function is:\n",
    "\\begin{equation*}\n",
    "Q^*(s,a)=\\max_{\\pi}Q^\\pi(s,a) \\> .\n",
    "\\end{equation*}\n",
    "\n",
    "In this project, we will apply the deep reinforcement learning techniques to a simple game: an agent will have to learn from scratch a policy that will permit it maximizing a reward."
   ]
  },
  {
   "cell_type": "markdown",
   "metadata": {},
   "source": [
    "## The environment, the agent and the game"
   ]
  },
  {
   "cell_type": "markdown",
   "metadata": {},
   "source": [
    "### The environment"
   ]
  },
  {
   "cell_type": "markdown",
   "metadata": {},
   "source": [
    "```Environment``` is an abstract class that represents the states, rewards, and actions to obtain the new state."
   ]
  },
  {
   "cell_type": "code",
   "execution_count": 9,
   "metadata": {},
   "outputs": [],
   "source": [
    "class Environment(object):\n",
    "    def __init__(self):\n",
    "        pass\n",
    "\n",
    "    def act(self, act):\n",
    "        \"\"\"\n",
    "        One can act on the environment and obtain its reaction:\n",
    "        - the new state\n",
    "        - the reward of the new state\n",
    "        - should we continue the game?\n",
    "\n",
    "        :return: state, reward, game_over\n",
    "        \"\"\"\n",
    "        pass\n",
    "\n",
    "\n",
    "    def reset(self):\n",
    "        \"\"\"\n",
    "        Reinitialize the environment to a random state and returns\n",
    "        the original state\n",
    "\n",
    "        :return: state\n",
    "        \"\"\"\n",
    "        pass\n",
    "    \n",
    "    def draw(self):\n",
    "        \"\"\"\n",
    "        Visualize in the console or graphically the current state\n",
    "        \"\"\"\n",
    "        pass"
   ]
  },
  {
   "cell_type": "markdown",
   "metadata": {},
   "source": [
    "The method ```act``` allows to act on the environment at a given state $s_t$ (stored internally), via action $a_t$. The method will return the new state $s_{t+1}$, the reward $r(s_{t},a_{t})$ and determines if $t\\leq T$ (*game_over*).\n",
    "\n",
    "The method ```reset``` simply reinitializes the environment to a random state $s_0$.\n",
    "\n",
    "The method ```draw``` displays the current state $s_t$ (this is useful to check the behavior of the Agent).\n",
    "\n",
    "We modelize $s_t$ as a tensor, while $a_t$ is an integer."
   ]
  },
  {
   "cell_type": "markdown",
   "metadata": {},
   "source": [
    "### The Agent"
   ]
  },
  {
   "cell_type": "markdown",
   "metadata": {},
   "source": [
    "The goal of the ```Agent``` is to interact with the ```Environment``` by proposing actions $a_t$ obtained from a given state $s_t$ to attempt to maximize its __reward__ $r(s_t,a_t)$. We propose the following abstract class:"
   ]
  },
  {
   "cell_type": "code",
   "execution_count": 10,
   "metadata": {},
   "outputs": [],
   "source": [
    "class Agent(object):\n",
    "    def __init__(self, epsilon=0.1, n_action=4):\n",
    "        self.epsilon = epsilon\n",
    "        self.n_action = n_action\n",
    "    \n",
    "    def set_epsilon(self,e):\n",
    "        self.epsilon = e\n",
    "\n",
    "    def act(self,s,train=True):\n",
    "        \"\"\" This function should return the next action to do:\n",
    "        an integer between 0 and 4 (not included) with a random exploration of epsilon\"\"\"\n",
    "        if train:\n",
    "            if np.random.rand() <= self.epsilon:\n",
    "                a = np.random.randint(0, self.n_action, size=1)[0]\n",
    "            else:\n",
    "                a = self.learned_act(s)\n",
    "        else: # in some cases, this can improve the performance.. remove it if poor performances\n",
    "            a = self.learned_act(s)\n",
    "\n",
    "        return a\n",
    "\n",
    "    def learned_act(self,s):\n",
    "        \"\"\" Act via the policy of the agent, from a given state s\n",
    "        it proposes an action a\"\"\"\n",
    "        pass\n",
    "\n",
    "    def reinforce(self, s, n_s, a, r, game_over_):\n",
    "        \"\"\" This function is the core of the learning algorithm. \n",
    "        It takes as an input the current state s_, the next state n_s_\n",
    "        the action a_ used to move from s_ to n_s_ and the reward r_.\n",
    "        \n",
    "        Its goal is to learn a policy.\n",
    "        \"\"\"\n",
    "        pass\n",
    "\n",
    "    def save(self):\n",
    "        \"\"\" This function returns basic stats if applicable: the\n",
    "        loss and/or the model\"\"\"\n",
    "        pass\n",
    "\n",
    "    def load(self):\n",
    "        \"\"\" This function allows to restore a model\"\"\"\n",
    "        pass"
   ]
  },
  {
   "cell_type": "markdown",
   "metadata": {},
   "source": [
    "***\n",
    "__Question 1__:\n",
    "Explain the function act. Why is ```epsilon``` essential?"
   ]
  },
  {
   "cell_type": "markdown",
   "metadata": {},
   "source": [
    "**If the agent sticks to a suboptimal policy, he might not explore other paths that would allow him to improve its policy. Taking random actions with a non-zero probability ensures that the agents continues to explore the environment, which will allow it to find an optimal policy.**"
   ]
  },
  {
   "cell_type": "markdown",
   "metadata": {},
   "source": [
    "***\n",
    "### The Game"
   ]
  },
  {
   "cell_type": "markdown",
   "metadata": {},
   "source": [
    "The ```Agent``` and the ```Environment``` work in an interlaced way as in the following (take some time to understand this code as it is the core of the project)\n",
    "\n",
    "```python\n",
    "\n",
    "epoch = 300\n",
    "env = Environment()\n",
    "agent = Agent()\n",
    "\n",
    "\n",
    "# Number of won games\n",
    "score = 0\n",
    "loss = 0\n",
    "\n",
    "\n",
    "for e in range(epoch):\n",
    "    # At each epoch, we restart to a fresh game and get the initial state\n",
    "    state = env.reset()\n",
    "    # This assumes that the games will end\n",
    "    game_over = False\n",
    "\n",
    "    win = 0\n",
    "    lose = 0\n",
    "    \n",
    "    while not game_over:\n",
    "        # The agent performs an action\n",
    "        action = agent.act(state)\n",
    "\n",
    "        # Apply an action to the environment, get the next state, the reward\n",
    "        # and if the games end\n",
    "        prev_state = state\n",
    "        state, reward, game_over = env.act(action)\n",
    "\n",
    "        # Update the counters\n",
    "        if reward > 0:\n",
    "            win = win + reward\n",
    "        if reward < 0:\n",
    "            lose = lose -reward\n",
    "\n",
    "        # Apply the reinforcement strategy\n",
    "        loss = agent.reinforce(prev_state, state,  action, reward, game_over)\n",
    "\n",
    "    # Save as a mp4\n",
    "    if e % 10 == 0:\n",
    "        env.draw(e)\n",
    "\n",
    "    # Update stats\n",
    "    score += win-lose\n",
    "\n",
    "    print(\"Epoch {:03d}/{:03d} | Loss {:.4f} | Win/lose count {}/{} ({})\"\n",
    "          .format(e, epoch, loss, win, lose, win-lose))\n",
    "    agent.save()\n",
    "```"
   ]
  },
  {
   "cell_type": "markdown",
   "metadata": {},
   "source": [
    "# The game, *eat cheese*"
   ]
  },
  {
   "cell_type": "markdown",
   "metadata": {},
   "source": [
    "A rat runs on an island and tries to eat as much as possible. The island is subdivided into $N\\times N$ cells, in which there are cheese (+0.5) and poisonous cells (-1). The rat has a visibility of 2 cells (thus it can see $5^2$ cells). The rat is given a time $T$ to accumulate as much food as possible. It can perform 4 actions: going up, down, left, right. \n",
    "\n",
    "The goal is to code an agent to solve this task that will learn by trial and error. We propose the following environment:"
   ]
  },
  {
   "cell_type": "code",
   "execution_count": 11,
   "metadata": {},
   "outputs": [],
   "source": [
    "class Environment(object):\n",
    "    def __init__(self, grid_size=10, max_time=500, temperature=0.1):\n",
    "        grid_size = grid_size+4\n",
    "        self.grid_size = grid_size\n",
    "        self.max_time = max_time\n",
    "        self.temperature = temperature\n",
    "\n",
    "        #board on which one plays\n",
    "        self.board = np.zeros((grid_size,grid_size))\n",
    "        self.position = np.zeros((grid_size,grid_size))\n",
    "\n",
    "        # coordinate of the cat\n",
    "        self.x = 0\n",
    "        self.y = 1\n",
    "\n",
    "        # self time\n",
    "        self.t = 0\n",
    "\n",
    "        self.scale=16\n",
    "\n",
    "        self.to_draw = np.zeros((max_time+2, grid_size*self.scale, grid_size*self.scale, 3))\n",
    "\n",
    "\n",
    "    def draw(self,e):\n",
    "        skvideo.io.vwrite(str(e) + '.mp4', self.to_draw)\n",
    "\n",
    "    def get_frame(self,t):\n",
    "        b = np.zeros((self.grid_size,self.grid_size,3))+128\n",
    "        b[self.board>0,0] = 256\n",
    "        b[self.board < 0, 2] = 256\n",
    "        b[self.x,self.y,:]=256\n",
    "        b[-2:,:,:]=0\n",
    "        b[:,-2:,:]=0\n",
    "        b[:2,:,:]=0\n",
    "        b[:,:2,:]=0\n",
    "        \n",
    "        b =  cv2.resize(b, None, fx=self.scale, fy=self.scale, interpolation=cv2.INTER_NEAREST)\n",
    "\n",
    "        self.to_draw[t,:,:,:]=b\n",
    "\n",
    "\n",
    "    def act(self, action):\n",
    "        \"\"\"This function returns the new state, reward and decides if the\n",
    "        game ends.\"\"\"\n",
    "\n",
    "        self.get_frame(int(self.t))\n",
    "\n",
    "        self.position = np.zeros((self.grid_size, self.grid_size))\n",
    "\n",
    "        self.position[0:2,:]= -1\n",
    "        self.position[:,0:2] = -1\n",
    "        self.position[-2:, :] = -1\n",
    "        self.position[-2:, :] = -1\n",
    "\n",
    "        self.position[self.x, self.y] = 1\n",
    "        if action == 0:\n",
    "            if self.x == self.grid_size-3:\n",
    "                self.x = self.x-1\n",
    "            else:\n",
    "                self.x = self.x + 1\n",
    "        elif action == 1:\n",
    "            if self.x == 2:\n",
    "                self.x = self.x+1\n",
    "            else:\n",
    "                self.x = self.x-1\n",
    "        elif action == 2:\n",
    "            if self.y == self.grid_size - 3:\n",
    "                self.y = self.y - 1\n",
    "            else:\n",
    "                self.y = self.y + 1\n",
    "        elif action == 3:\n",
    "            if self.y == 2:\n",
    "                self.y = self.y + 1\n",
    "            else:\n",
    "                self.y = self.y - 1\n",
    "        else:\n",
    "            RuntimeError('Error: action not recognized')\n",
    "\n",
    "        self.t = self.t + 1\n",
    "        reward = self.board[self.x, self.y]\n",
    "        self.board[self.x, self.y] = 0\n",
    "        game_over = self.t > self.max_time\n",
    "        state = np.concatenate((self.board.reshape(self.grid_size, self.grid_size,1),\n",
    "                        self.position.reshape(self.grid_size, self.grid_size,1)),axis=2)\n",
    "        state = state[self.x-2:self.x+3,self.y-2:self.y+3,:]\n",
    "\n",
    "        return state, reward, game_over\n",
    "\n",
    "    def reset(self):\n",
    "        \"\"\"This function resets the game and returns the initial state\"\"\"\n",
    "\n",
    "        self.x = np.random.randint(3, self.grid_size-3, size=1)[0]\n",
    "        self.y = np.random.randint(3, self.grid_size-3, size=1)[0]\n",
    "\n",
    "\n",
    "        bonus = 0.5*np.random.binomial(1,self.temperature,size=self.grid_size**2)\n",
    "        bonus = bonus.reshape(self.grid_size,self.grid_size)\n",
    "\n",
    "        malus = -1.0*np.random.binomial(1,self.temperature,size=self.grid_size**2)\n",
    "        malus = malus.reshape(self.grid_size, self.grid_size)\n",
    "\n",
    "        self.to_draw = np.zeros((self.max_time+2, self.grid_size*self.scale, self.grid_size*self.scale, 3))\n",
    "\n",
    "\n",
    "        malus[bonus>0]=0\n",
    "\n",
    "        self.board = bonus + malus\n",
    "\n",
    "        self.position = np.zeros((self.grid_size, self.grid_size))\n",
    "        self.position[0:2,:]= -1\n",
    "        self.position[:,0:2] = -1\n",
    "        self.position[-2:, :] = -1\n",
    "        self.position[-2:, :] = -1\n",
    "        self.board[self.x,self.y] = 0\n",
    "        self.t = 0\n",
    "\n",
    "        state = np.concatenate((\n",
    "                               self.board.reshape(self.grid_size, self.grid_size,1),\n",
    "                        self.position.reshape(self.grid_size, self.grid_size,1)),axis=2)\n",
    "\n",
    "        state = state[self.x - 2:self.x + 3, self.y - 2:self.y + 3, :]\n",
    "        return state"
   ]
  },
  {
   "cell_type": "markdown",
   "metadata": {},
   "source": [
    "The following elements are important because they correspond to the hyper parameters for this project:"
   ]
  },
  {
   "cell_type": "code",
   "execution_count": 5,
   "metadata": {},
   "outputs": [],
   "source": [
    "# parameters\n",
    "size = 13\n",
    "T=200\n",
    "temperature=0.3\n",
    "epochs_train=100 # set small when debugging\n",
    "epochs_test=11 # set small when debugging\n",
    "\n",
    "# display videos\n",
    "def display_videos(name):\n",
    "    video = io.open(name, 'r+b').read()\n",
    "    encoded = base64.b64encode(video)\n",
    "    return '''<video alt=\"test\" controls>\n",
    "                <source src=\"data:video/mp4;base64,{0}\" type=\"video/mp4\" />\n",
    "             </video>'''.format(encoded.decode('ascii'))"
   ]
  },
  {
   "cell_type": "markdown",
   "metadata": {},
   "source": [
    "__Question 2__ Explain the use of the arrays ```position``` and ```board```."
   ]
  },
  {
   "cell_type": "markdown",
   "metadata": {},
   "source": [
    "**The array** ```position``` **refers to the position of the agent in the grid, to make sure that it can not go out of the frame.**\n",
    "\n",
    "**The array** ```board``` **encompasses the positions of the bonus and malus of the environment.**"
   ]
  },
  {
   "cell_type": "markdown",
   "metadata": {},
   "source": [
    "## Random Agent"
   ]
  },
  {
   "cell_type": "markdown",
   "metadata": {},
   "source": [
    "***\n",
    "__Question 3__ Implement a random Agent (only ```learned_act``` needs to be implemented):"
   ]
  },
  {
   "cell_type": "code",
   "execution_count": 267,
   "metadata": {},
   "outputs": [],
   "source": [
    "class RandomAgent(Agent):\n",
    "    def __init__(self):\n",
    "        super(RandomAgent, self).__init__()\n",
    "        pass\n",
    "\n",
    "    def learned_act(self, s):\n",
    "        return np.random.randint(0, self.n_action)"
   ]
  },
  {
   "cell_type": "markdown",
   "metadata": {},
   "source": [
    "***\n",
    "***\n",
    "__Question 4__ Visualize the game moves. You need to fill in the following function for the evaluation:"
   ]
  },
  {
   "cell_type": "code",
   "execution_count": 255,
   "metadata": {},
   "outputs": [],
   "source": [
    "def test(agent,env,epochs,prefix='', prt=True):\n",
    "    # Number of won games\n",
    "    score = 0\n",
    "        \n",
    "    for e in range(epochs):\n",
    "        # At each epoch, we restart to a fresh game and get the initial state\n",
    "        state = env.reset()\n",
    "        # This assumes that the games will end\n",
    "        game_over = False\n",
    "\n",
    "        win = 0\n",
    "        lose = 0\n",
    "\n",
    "        while not game_over:\n",
    "            # The agent performs an action\n",
    "            action = agent.act(state)\n",
    "\n",
    "            # Apply an action to the environment, get the next state, the reward\n",
    "            # and if the games end\n",
    "            prev_state = state\n",
    "            state, reward, game_over = env.act(action)\n",
    "\n",
    "            # Update the counters\n",
    "            if reward > 0:\n",
    "                win = win + reward\n",
    "            if reward < 0:\n",
    "                lose = lose -reward\n",
    "\n",
    "            # Apply the reinforcement strategy\n",
    "            loss = agent.reinforce(prev_state, state,  action, reward, game_over)\n",
    "\n",
    "\n",
    "        # Save as a mp4\n",
    "        env.draw(prefix+str(e))\n",
    "\n",
    "        # Update stats\n",
    "        score = score + win-lose\n",
    "        if prt:\n",
    "            print(\"Win/lose count {}/{}. Average score ({})\"\n",
    "                  .format(win, lose, score/(1+e)))\n",
    "    print('Final score: '+str(score/epochs))"
   ]
  },
  {
   "cell_type": "code",
   "execution_count": 18,
   "metadata": {
    "scrolled": true
   },
   "outputs": [
    {
     "name": "stdout",
     "output_type": "stream",
     "text": [
      "Win/lose count 7.0/16.0. Average score (-9.0)\n",
      "Win/lose count 8.0/18.0. Average score (-9.5)\n",
      "Final score: -9.5\n"
     ]
    },
    {
     "data": {
      "text/html": [
       "<video alt=\"test\" controls>\n",
       "                <source src=\"data:video/mp4;base64,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\" type=\"video/mp4\" />\n",
       "             </video>"
      ],
      "text/plain": [
       "<IPython.core.display.HTML object>"
      ]
     },
     "execution_count": 18,
     "metadata": {},
     "output_type": "execute_result"
    }
   ],
   "source": [
    "# Initialize the game\n",
    "env = Environment(grid_size=size, max_time=T,temperature=temperature)\n",
    "\n",
    "# Initialize the agent!\n",
    "agent = RandomAgent()\n",
    "\n",
    "test(agent,env,epochs_test,prefix='videos/random')\n",
    "HTML(display_videos('videos/random0.mp4'))"
   ]
  },
  {
   "cell_type": "markdown",
   "metadata": {},
   "source": [
    "***\n",
    "## DQN"
   ]
  },
  {
   "cell_type": "markdown",
   "metadata": {},
   "source": [
    "Let us assume here that $T=\\infty$.\n",
    "\n",
    "***\n",
    "__Question 5__ Let $\\pi$ be a policy, show that:\n",
    "\n",
    "\\begin{equation*}\n",
    "Q^{\\pi}(s,a)=E_{(s',a')\\sim p(.|s,a)}[r(s,a)+\\gamma Q^{\\pi}(s',a')]\n",
    "\\end{equation*}\n",
    "\n",
    "Then, show that for the optimal policy $\\pi^*$ (we assume its existence), the following holds: \n",
    "\n",
    "\\begin{equation*}\n",
    "Q^{*}(s,a)=E_{s'\\sim \\pi^*(.|s,a)}[r(s,a)+\\gamma\\max_{a'}Q^{*}(s',a')].\n",
    "\\end{equation*}\n",
    "Finally, deduce that a plausible objective is:\n",
    "\n",
    "\\begin{equation*}\n",
    "\\mathcal{L}(\\theta)=E_{s' \\sim \\pi^*(.|s,a)}\\Vert r+\\gamma\\max\\max_{a'}Q(s',a',\\theta)-Q(s,a,\\theta)\\Vert^{2}.\n",
    "\\end{equation*}\n",
    "\n",
    "\n"
   ]
  },
  {
   "cell_type": "markdown",
   "metadata": {},
   "source": [
    "**Answer**\n",
    "We have,\n",
    "$$\n",
    "\\begin{align*}\n",
    "Q^\\pi(s,a) &= \\mathbb{E}_\\pi \\left[\\sum_{k=0}^{\\infty} \\gamma^k r(s_k,a_k) | s_0 = s, a_0 = a \\right] \\\\\n",
    "&= r(s,a) + \\mathbb{E}_{\\pi} \\left[ \\sum_{k=1}^{\\infty} \\gamma^k r(s_k, a_k) | s_0 = s, a_0 = a \\right] \\\\ \n",
    "&= r(s,a) + \\gamma \\sum_{(s',a') \\in \\mathcal{S} \\times \\mathcal{A}} p_\\pi(s_1 = s', a_1 = a' | s_0 = s, a_0 = a) \n",
    "\\mathbb{E}_\\pi\\left[ \\sum_{k=0}^{\\infty} \\gamma^k r(s_{k+1}, a_{k+1}) | s_1 = s', a_1 = a' \\right] \\\\\n",
    "&= r(s, a) + \\gamma \\mathbb{E}_{(s',a')\\sim \\pi(.|s,a)} \\left[ Q^\\pi (s',a') \\right]\n",
    "\\end{align*}$$\n",
    "\n",
    "Then,\n",
    "$$\n",
    "\\begin{align*}\n",
    "Q^*(s,a) &= \\max_{\\pi} Q^\\pi (s,a) \\\\\n",
    "&= \\max_{\\pi} \\mathbb{E}_{(s',a')\\sim \\pi(.|s,a)} \\left[ r(s,a) + \\gamma Q^\\pi (s', a') \\right] \\\\\n",
    "&= r(s,a) + \\gamma \\max_\\pi \\mathbb{E}_\\pi [Q^\\pi(s',a')] \\\\\n",
    "&= r(s,a) + \\gamma \\max_{\\pi,a'} \\sum_{s'\\in \\mathcal{S}} p_\\pi(s',a' | s,a) Q^\\pi(s',a') \\\\\n",
    "&= r(s,a) + \\gamma  \\sum_{s'\\in \\mathcal{S}} \\pi^*(s'|s,a) \\max_{a'} Q^*(s',a') \\\\\n",
    "&= r(s,a) + \\gamma \\mathbb{E}_{s'\\sim \\pi^*(.|s,a)} \\left[ \\max_{a'} Q^*(s',a') \\right] \\\\\n",
    "&= \\mathbb{E}_{s'\\sim \\pi^*(.|s,a)} \\left[ r(s,a) + \\gamma  \\max_{a'} Q^*(s',a') \\right]\n",
    "\\end{align*}\n",
    "$$\n",
    "\n",
    "Finally, since the function \n",
    "$$\\theta \\mapsto E_{s' \\sim \\pi^*(.|s,a)}\\Vert r+\\gamma\\max_{a'}Q(s',a',\\theta)-Q(s,a,\\theta)\\Vert^{2}$$\n",
    "is positive and equal to zero if and only if $Q(s,a,\\theta) = Q^*(s,a)$, the loss \n",
    "$$\\mathcal{L}(\\theta)=E_{s' \\sim \\pi^*(.|s,a)}\\Vert r+\\gamma\\max_{a'}Q(s',a',\\theta)-Q(s,a,\\theta)\\Vert^{2}$$ is a plausible objective function."
   ]
  },
  {
   "cell_type": "markdown",
   "metadata": {},
   "source": [
    "***\n",
    "The DQN-learning algorithm relies on these derivations to train the parameters $\\theta$ of a Deep Neural Network:\n",
    "\n",
    "1. At the state $s_t$, select the action $a_t$ with best reward using $Q_t$ and store the results;\n",
    "\n",
    "2. Obtain the new state $s_{t+1}$ from the environment $p$;\n",
    "\n",
    "3. Store $(s_t,a_t,s_{t+1})$;\n",
    "\n",
    "4. Obtain $Q_{t+1}$ by minimizing  $\\mathcal{L}$ from a recovered batch from the previously stored results.\n",
    "\n",
    "***\n",
    "__Question 6__ Implement the class ```Memory``` that stores moves (in a replay buffer) via ```remember``` and provides a ```random_access``` to these. Specify a maximum memory size to avoid side effects. You can for example use a ```list()``` and set by default ```max_memory=100```."
   ]
  },
  {
   "cell_type": "code",
   "execution_count": 268,
   "metadata": {},
   "outputs": [],
   "source": [
    "class Memory(object):\n",
    "    def __init__(self, max_memory=100):\n",
    "        self.max_memory = max_memory\n",
    "        self.memory = list()\n",
    "\n",
    "    def remember(self, m):\n",
    "        if len(self.memory) < self.max_memory:\n",
    "            # While the memory is not full, we simply add the move\n",
    "            self.memory.append(m)\n",
    "        else:\n",
    "            # If memory full, we replace an old memory at random\n",
    "            i = np.random.randint(0, len(self.memory))\n",
    "            self.memory[i] = m\n",
    "            \n",
    "    def random_access(self):\n",
    "        i = np.random.randint(0, len(self.memory))\n",
    "        return self.memory[i]\n"
   ]
  },
  {
   "cell_type": "markdown",
   "metadata": {},
   "source": [
    "***\n",
    "The pipeline we will use for training is given below:"
   ]
  },
  {
   "cell_type": "code",
   "execution_count": 166,
   "metadata": {},
   "outputs": [],
   "source": [
    "def train(agent,env,epoch,prefix=''):\n",
    "    # Number of won games\n",
    "    score = 0\n",
    "    loss = 0\n",
    "\n",
    "    for e in range(epoch):\n",
    "        # At each epoch, we restart to a fresh game and get the initial state\n",
    "        state = env.reset()\n",
    "        # This assumes that the games will terminate\n",
    "        game_over = False\n",
    "\n",
    "        win = 0\n",
    "        lose = 0\n",
    "\n",
    "        while not game_over:\n",
    "            # The agent performs an action\n",
    "            action = agent.act(state)\n",
    "\n",
    "            # Apply an action to the environment, get the next state, the reward\n",
    "            # and if the games end\n",
    "            prev_state = state\n",
    "            state, reward, game_over = env.act(action)\n",
    "\n",
    "            # Update the counters\n",
    "            if reward > 0:\n",
    "                win = win + reward\n",
    "            if reward < 0:\n",
    "                lose = lose -reward\n",
    "\n",
    "            # Apply the reinforcement strategy\n",
    "            loss = agent.reinforce(prev_state, state,  action, reward, game_over)\n",
    "\n",
    "        # Save as a mp4\n",
    "        if e % 10 == 0:\n",
    "            env.draw(prefix+str(e))\n",
    "\n",
    "        # Update stats\n",
    "        score += win-lose\n",
    "\n",
    "        print(\"Epoch {:03d}/{:03d} | Loss {:.4f} | Win/lose count {}/{} ({})\"\n",
    "              .format(e, epoch, loss, win, lose, win-lose))\n",
    "        agent.save(name_weights=prefix+'model.h5',name_model=prefix+'model.json')"
   ]
  },
  {
   "cell_type": "markdown",
   "metadata": {},
   "source": [
    "***\n",
    "__Question 7__ Implement the DQN training algorithm using a cascade of fully connected layers. You can use different learning rate, batch size or memory size parameters. In particular, the loss might oscillate while the player will start to win the games. You have to find a good criterium."
   ]
  },
  {
   "cell_type": "code",
   "execution_count": 227,
   "metadata": {},
   "outputs": [],
   "source": [
    "class DQN(Agent):\n",
    "    def __init__(self, grid_size,  epsilon = 0.1, memory_size=100, batch_size = 16,n_state=2):\n",
    "        super(DQN, self).__init__(epsilon = epsilon)\n",
    "\n",
    "        # Discount for Q learning\n",
    "        self.discount = 0.99\n",
    "        \n",
    "        self.grid_size = grid_size\n",
    "        \n",
    "        # number of state\n",
    "        self.n_state = n_state\n",
    "\n",
    "        # Memory\n",
    "        self.memory = Memory(memory_size)\n",
    "        \n",
    "        # Batch size when learning\n",
    "        self.batch_size = batch_size\n",
    "\n",
    "    def learned_act(self, s):\n",
    "        return np.argmax(self.model.predict(s.reshape(1, 5, 5, self.n_state)))\n",
    "    \n",
    "    def reinforce(self, s_, n_s_, a_, r_, game_over_):\n",
    "        # Two steps: first memorize the states, second learn from the pool\n",
    "\n",
    "        self.memory.remember([s_, n_s_, a_, r_, game_over_])\n",
    "        \n",
    "        input_states = np.zeros((self.batch_size, 5,5,self.n_state))\n",
    "        target_q = np.zeros((self.batch_size, 4))\n",
    "        \n",
    "        for i in range(self.batch_size):\n",
    "            #memory = self.memory.random_access()\n",
    "            s, n_s, a, r, game_over = self.memory.random_access()\n",
    "            if game_over_:\n",
    "                target_q[i, a] = r\n",
    "            else:\n",
    "                target_q[i, a] = r + self.discount*np.max(self.model.predict(n_s.reshape(1, 5, 5, self.n_state)).reshape(-1))\n",
    "            \n",
    "            input_states[i] = s\n",
    "        \n",
    "        # HINT: Clip the target to avoid exploiding gradients.. -- clipping is a bit tighter\n",
    "        target_q = np.clip(target_q, -3, 3)\n",
    "\n",
    "        l = self.model.train_on_batch(input_states, target_q)\n",
    "\n",
    "        return l\n",
    "\n",
    "    def save(self,name_weights='model.h5',name_model='model.json'):\n",
    "        self.model.save_weights(name_weights, overwrite=True)\n",
    "        with open(name_model, \"w\") as outfile:\n",
    "            json.dump(self.model.to_json(), outfile)\n",
    "            \n",
    "    def load(self,name_weights='model.h5',name_model='model.json'):\n",
    "        with open(name_model, \"r\") as jfile:\n",
    "            model = model_from_json(json.load(jfile))\n",
    "        model.load_weights(name_weights)\n",
    "        model.compile(\"sgd\", \"mse\")\n",
    "        self.model = model\n",
    "\n",
    "            \n",
    "class DQN_FC(DQN):\n",
    "    def __init__(self, *args, lr=0.1,**kwargs):\n",
    "        super(DQN_FC, self).__init__( *args,**kwargs)\n",
    "        \n",
    "        # NN Model\n",
    "        # We use a simple neural network with one fully connected layer\n",
    "        model = keras.Sequential()\n",
    "        model.add(Reshape((-1,), input_shape=(5, 5, self.n_state)))\n",
    "        model.add(Dense(4))\n",
    "        \n",
    "        # Optimize with standard SGD with a decay to lower the learning rate during training\n",
    "        model.compile(sgd(lr=lr, decay=1e-4, momentum=0.0), \"mse\")\n",
    "        self.model = model\n",
    "        "
   ]
  },
  {
   "cell_type": "code",
   "execution_count": 240,
   "metadata": {
    "scrolled": true
   },
   "outputs": [
    {
     "name": "stdout",
     "output_type": "stream",
     "text": [
      "Epoch 000/100 | Loss 0.1174 | Win/lose count 13.5/14.0 (-0.5)\n",
      "Epoch 001/100 | Loss 0.0269 | Win/lose count 2.5/5.0 (-2.5)\n",
      "Epoch 002/100 | Loss 0.0814 | Win/lose count 7.0/8.0 (-1.0)\n",
      "Epoch 003/100 | Loss 0.0097 | Win/lose count 4.5/4.0 (0.5)\n",
      "Epoch 004/100 | Loss 0.0203 | Win/lose count 3.5/6.0 (-2.5)\n",
      "Epoch 005/100 | Loss 0.0082 | Win/lose count 10.5/6.0 (4.5)\n",
      "Epoch 006/100 | Loss 0.0075 | Win/lose count 7.5/6.0 (1.5)\n",
      "Epoch 007/100 | Loss 0.0317 | Win/lose count 10.5/5.0 (5.5)\n",
      "Epoch 008/100 | Loss 0.0236 | Win/lose count 9.5/8.0 (1.5)\n",
      "Epoch 009/100 | Loss 0.0392 | Win/lose count 5.5/7.0 (-1.5)\n",
      "Epoch 010/100 | Loss 0.0258 | Win/lose count 8.0/1.0 (7.0)\n",
      "Epoch 011/100 | Loss 0.0230 | Win/lose count 7.5/0 (7.5)\n",
      "Epoch 012/100 | Loss 0.0338 | Win/lose count 2.5/3.0 (-0.5)\n",
      "Epoch 013/100 | Loss 0.0203 | Win/lose count 13.5/4.0 (9.5)\n",
      "Epoch 014/100 | Loss 0.0073 | Win/lose count 4.5/0 (4.5)\n",
      "Epoch 015/100 | Loss 0.0047 | Win/lose count 14.5/10.0 (4.5)\n",
      "Epoch 016/100 | Loss 0.0066 | Win/lose count 8.5/4.0 (4.5)\n",
      "Epoch 017/100 | Loss 0.0091 | Win/lose count 6.0/1.0 (5.0)\n",
      "Epoch 018/100 | Loss 0.0138 | Win/lose count 3.5/1.0 (2.5)\n",
      "Epoch 019/100 | Loss 0.0157 | Win/lose count 6.5/4.0 (2.5)\n",
      "Epoch 020/100 | Loss 0.0103 | Win/lose count 10.5/4.0 (6.5)\n",
      "Epoch 021/100 | Loss 0.0064 | Win/lose count 8.0/0 (8.0)\n",
      "Epoch 022/100 | Loss 0.0083 | Win/lose count 7.0/5.0 (2.0)\n",
      "Epoch 023/100 | Loss 0.0046 | Win/lose count 8.0/4.0 (4.0)\n",
      "Epoch 024/100 | Loss 0.0017 | Win/lose count 8.0/3.0 (5.0)\n",
      "Epoch 025/100 | Loss 0.0164 | Win/lose count 9.5/1.0 (8.5)\n",
      "Epoch 026/100 | Loss 0.0081 | Win/lose count 6.5/1.0 (5.5)\n",
      "Epoch 027/100 | Loss 0.0218 | Win/lose count 9.0/6.0 (3.0)\n",
      "Epoch 028/100 | Loss 0.0190 | Win/lose count 6.0/0 (6.0)\n",
      "Epoch 029/100 | Loss 0.0052 | Win/lose count 9.5/3.0 (6.5)\n",
      "Epoch 030/100 | Loss 0.0055 | Win/lose count 5.5/1.0 (4.5)\n",
      "Epoch 031/100 | Loss 0.0153 | Win/lose count 6.5/4.0 (2.5)\n",
      "Epoch 032/100 | Loss 0.0030 | Win/lose count 1.0/1.0 (0.0)\n",
      "Epoch 033/100 | Loss 0.0164 | Win/lose count 3.0/2.0 (1.0)\n",
      "Epoch 034/100 | Loss 0.0056 | Win/lose count 5.0/1.0 (4.0)\n",
      "Epoch 035/100 | Loss 0.0261 | Win/lose count 5.0/0 (5.0)\n",
      "Epoch 036/100 | Loss 0.0097 | Win/lose count 9.5/5.0 (4.5)\n",
      "Epoch 037/100 | Loss 0.0022 | Win/lose count 11.0/3.0 (8.0)\n",
      "Epoch 038/100 | Loss 0.0101 | Win/lose count 9.0/4.0 (5.0)\n",
      "Epoch 039/100 | Loss 0.0059 | Win/lose count 7.0/1.0 (6.0)\n",
      "Epoch 040/100 | Loss 0.0048 | Win/lose count 10.5/7.0 (3.5)\n",
      "Epoch 041/100 | Loss 0.0029 | Win/lose count 8.0/3.0 (5.0)\n",
      "Epoch 042/100 | Loss 0.0060 | Win/lose count 6.0/5.0 (1.0)\n",
      "Epoch 043/100 | Loss 0.0059 | Win/lose count 4.5/6.0 (-1.5)\n",
      "Epoch 044/100 | Loss 0.0104 | Win/lose count 7.5/1.0 (6.5)\n",
      "Epoch 045/100 | Loss 0.0148 | Win/lose count 7.0/4.0 (3.0)\n",
      "Epoch 046/100 | Loss 0.0040 | Win/lose count 6.0/4.0 (2.0)\n",
      "Epoch 047/100 | Loss 0.0213 | Win/lose count 3.0/1.0 (2.0)\n",
      "Epoch 048/100 | Loss 0.0152 | Win/lose count 12.5/2.0 (10.5)\n",
      "Epoch 049/100 | Loss 0.0171 | Win/lose count 6.0/5.0 (1.0)\n",
      "Epoch 050/100 | Loss 0.0216 | Win/lose count 11.0/6.0 (5.0)\n",
      "Epoch 051/100 | Loss 0.0043 | Win/lose count 8.0/2.0 (6.0)\n",
      "Epoch 052/100 | Loss 0.0047 | Win/lose count 8.0/2.0 (6.0)\n",
      "Epoch 053/100 | Loss 0.0211 | Win/lose count 4.5/5.0 (-0.5)\n",
      "Epoch 054/100 | Loss 0.0051 | Win/lose count 9.0/2.0 (7.0)\n",
      "Epoch 055/100 | Loss 0.0020 | Win/lose count 8.5/4.0 (4.5)\n",
      "Epoch 056/100 | Loss 0.0233 | Win/lose count 5.0/2.0 (3.0)\n",
      "Epoch 057/100 | Loss 0.0058 | Win/lose count 2.5/1.0 (1.5)\n",
      "Epoch 058/100 | Loss 0.0017 | Win/lose count 2.5/2.0 (0.5)\n",
      "Epoch 059/100 | Loss 0.0087 | Win/lose count 6.5/2.0 (4.5)\n",
      "Epoch 060/100 | Loss 0.0070 | Win/lose count 8.5/2.0 (6.5)\n",
      "Epoch 061/100 | Loss 0.0174 | Win/lose count 8.0/1.0 (7.0)\n",
      "Epoch 062/100 | Loss 0.0020 | Win/lose count 5.5/1.0 (4.5)\n",
      "Epoch 063/100 | Loss 0.0185 | Win/lose count 1.5/2.0 (-0.5)\n",
      "Epoch 064/100 | Loss 0.0034 | Win/lose count 8.5/1.0 (7.5)\n",
      "Epoch 065/100 | Loss 0.0017 | Win/lose count 4.0/4.0 (0.0)\n",
      "Epoch 066/100 | Loss 0.0027 | Win/lose count 6.0/2.0 (4.0)\n",
      "Epoch 067/100 | Loss 0.0235 | Win/lose count 6.5/3.0 (3.5)\n",
      "Epoch 068/100 | Loss 0.0063 | Win/lose count 1.5/3.0 (-1.5)\n",
      "Epoch 069/100 | Loss 0.0040 | Win/lose count 6.0/2.0 (4.0)\n",
      "Epoch 070/100 | Loss 0.0018 | Win/lose count 3.0/3.0 (0.0)\n",
      "Epoch 071/100 | Loss 0.0017 | Win/lose count 1.5/0 (1.5)\n",
      "Epoch 072/100 | Loss 0.0064 | Win/lose count 5.0/2.0 (3.0)\n",
      "Epoch 073/100 | Loss 0.0099 | Win/lose count 7.0/4.0 (3.0)\n",
      "Epoch 074/100 | Loss 0.0041 | Win/lose count 1.0/1.0 (0.0)\n",
      "Epoch 075/100 | Loss 0.0038 | Win/lose count 2.0/4.0 (-2.0)\n",
      "Epoch 076/100 | Loss 0.0061 | Win/lose count 6.0/2.0 (4.0)\n",
      "Epoch 077/100 | Loss 0.0158 | Win/lose count 4.0/3.0 (1.0)\n",
      "Epoch 078/100 | Loss 0.0205 | Win/lose count 4.0/4.0 (0.0)\n",
      "Epoch 079/100 | Loss 0.0064 | Win/lose count 5.5/4.0 (1.5)\n",
      "Epoch 080/100 | Loss 0.0208 | Win/lose count 6.0/5.0 (1.0)\n",
      "Epoch 081/100 | Loss 0.0043 | Win/lose count 11.0/4.0 (7.0)\n",
      "Epoch 082/100 | Loss 0.0013 | Win/lose count 7.5/4.0 (3.5)\n",
      "Epoch 083/100 | Loss 0.0014 | Win/lose count 10.0/3.0 (7.0)\n",
      "Epoch 084/100 | Loss 0.0194 | Win/lose count 8.0/3.0 (5.0)\n",
      "Epoch 085/100 | Loss 0.0010 | Win/lose count 4.5/8.0 (-3.5)\n",
      "Epoch 086/100 | Loss 0.0063 | Win/lose count 4.0/2.0 (2.0)\n",
      "Epoch 087/100 | Loss 0.0011 | Win/lose count 3.0/3.0 (0.0)\n",
      "Epoch 088/100 | Loss 0.0064 | Win/lose count 7.0/1.0 (6.0)\n",
      "Epoch 089/100 | Loss 0.0064 | Win/lose count 6.0/4.0 (2.0)\n",
      "Epoch 090/100 | Loss 0.0164 | Win/lose count 5.0/6.0 (-1.0)\n",
      "Epoch 091/100 | Loss 0.0041 | Win/lose count 7.0/6.0 (1.0)\n",
      "Epoch 092/100 | Loss 0.0042 | Win/lose count 6.5/1.0 (5.5)\n",
      "Epoch 093/100 | Loss 0.0037 | Win/lose count 8.0/1.0 (7.0)\n",
      "Epoch 094/100 | Loss 0.0191 | Win/lose count 5.0/2.0 (3.0)\n",
      "Epoch 095/100 | Loss 0.0062 | Win/lose count 3.5/1.0 (2.5)\n",
      "Epoch 096/100 | Loss 0.0164 | Win/lose count 2.5/2.0 (0.5)\n",
      "Epoch 097/100 | Loss 0.0041 | Win/lose count 12.0/8.0 (4.0)\n",
      "Epoch 098/100 | Loss 0.0187 | Win/lose count 5.5/4.0 (1.5)\n",
      "Epoch 099/100 | Loss 0.0318 | Win/lose count 3.5/4.0 (-0.5)\n"
     ]
    },
    {
     "data": {
      "text/html": [
       "<video alt=\"test\" controls>\n",
       "                <source src=\"data:video/mp4;base64,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\" type=\"video/mp4\" />\n",
       "             </video>"
      ],
      "text/plain": [
       "<IPython.core.display.HTML object>"
      ]
     },
     "execution_count": 240,
     "metadata": {},
     "output_type": "execute_result"
    }
   ],
   "source": [
    "env = Environment(grid_size=size, max_time=T, temperature=0.3)\n",
    "agent = DQN_FC(size, lr=.05, epsilon = 0.1, memory_size=3000, batch_size = 16)\n",
    "train(agent, env, epochs_train, prefix='videos/fc_train')\n",
    "HTML(display_videos('videos/fc_train10.mp4'))"
   ]
  },
  {
   "cell_type": "markdown",
   "metadata": {},
   "source": [
    "***\n",
    "***\n",
    "__Question 8__ Implement the DQN training algorithm using a CNN (for example, 2 convolutional layers and one final fully connected layer)."
   ]
  },
  {
   "cell_type": "code",
   "execution_count": 243,
   "metadata": {},
   "outputs": [],
   "source": [
    "class DQN_CNN(DQN):\n",
    "    def __init__(self, *args,lr=0.1,**kwargs):\n",
    "        super(DQN_CNN, self).__init__(*args,**kwargs)\n",
    "        \n",
    "        # We use a CNN with two convlutional layers and one fully connected layer\n",
    "        model = keras.Sequential()\n",
    "        model.add(Conv2D(32, (3, 3), input_shape=(5, 5, self.n_state)))\n",
    "        model.add(Conv2D(32, (2, 2)))\n",
    "        model.add(Reshape((-1, )))\n",
    "        model.add(Dense(4))\n",
    "        \n",
    "        # Optimize with standard SGD with a decay to lower the learning rate during training\n",
    "        model.compile(sgd(lr=lr, decay=1e-4, momentum=0.0), \"mse\")\n",
    "\n",
    "        self.model = model"
   ]
  },
  {
   "cell_type": "code",
   "execution_count": 248,
   "metadata": {},
   "outputs": [
    {
     "name": "stdout",
     "output_type": "stream",
     "text": [
      "Epoch 000/100 | Loss 0.0059 | Win/lose count 2.5/6.0 (-3.5)\n",
      "Epoch 001/100 | Loss 0.0040 | Win/lose count 5.0/3.0 (2.0)\n",
      "Epoch 002/100 | Loss 0.0199 | Win/lose count 6.5/5.0 (1.5)\n",
      "Epoch 003/100 | Loss 0.0183 | Win/lose count 5.0/10.0 (-5.0)\n",
      "Epoch 004/100 | Loss 0.0070 | Win/lose count 4.5/5.0 (-0.5)\n",
      "Epoch 005/100 | Loss 0.0057 | Win/lose count 8.5/7.0 (1.5)\n",
      "Epoch 006/100 | Loss 0.0058 | Win/lose count 3.5/0 (3.5)\n",
      "Epoch 007/100 | Loss 0.0040 | Win/lose count 4.0/7.0 (-3.0)\n",
      "Epoch 008/100 | Loss 0.0016 | Win/lose count 6.0/4.0 (2.0)\n",
      "Epoch 009/100 | Loss 0.0019 | Win/lose count 11.5/5.0 (6.5)\n",
      "Epoch 010/100 | Loss 0.0178 | Win/lose count 12.0/2.0 (10.0)\n",
      "Epoch 011/100 | Loss 0.0030 | Win/lose count 8.0/3.0 (5.0)\n",
      "Epoch 012/100 | Loss 0.0039 | Win/lose count 1.0/3.0 (-2.0)\n",
      "Epoch 013/100 | Loss 0.0042 | Win/lose count 9.5/2.0 (7.5)\n",
      "Epoch 014/100 | Loss 0.0020 | Win/lose count 6.0/7.0 (-1.0)\n",
      "Epoch 015/100 | Loss 0.0161 | Win/lose count 11.5/2.0 (9.5)\n",
      "Epoch 016/100 | Loss 0.0050 | Win/lose count 2.0/4.0 (-2.0)\n",
      "Epoch 017/100 | Loss 0.0215 | Win/lose count 6.0/1.0 (5.0)\n",
      "Epoch 018/100 | Loss 0.0199 | Win/lose count 7.5/4.0 (3.5)\n",
      "Epoch 019/100 | Loss 0.0180 | Win/lose count 10.0/2.0 (8.0)\n",
      "Epoch 020/100 | Loss 0.0161 | Win/lose count 12.5/5.0 (7.5)\n",
      "Epoch 021/100 | Loss 0.0205 | Win/lose count 7.5/3.0 (4.5)\n",
      "Epoch 022/100 | Loss 0.0061 | Win/lose count 11.0/4.0 (7.0)\n",
      "Epoch 023/100 | Loss 0.0054 | Win/lose count 19.5/4.0 (15.5)\n",
      "Epoch 024/100 | Loss 0.0039 | Win/lose count 8.0/2.0 (6.0)\n",
      "Epoch 025/100 | Loss 0.0219 | Win/lose count 8.5/3.0 (5.5)\n",
      "Epoch 026/100 | Loss 0.0175 | Win/lose count 12.5/10.0 (2.5)\n",
      "Epoch 027/100 | Loss 0.0065 | Win/lose count 5.5/2.0 (3.5)\n",
      "Epoch 028/100 | Loss 0.0028 | Win/lose count 6.0/3.0 (3.0)\n",
      "Epoch 029/100 | Loss 0.0069 | Win/lose count 3.5/1.0 (2.5)\n",
      "Epoch 030/100 | Loss 0.0073 | Win/lose count 4.0/2.0 (2.0)\n",
      "Epoch 031/100 | Loss 0.0026 | Win/lose count 17.5/0 (17.5)\n",
      "Epoch 032/100 | Loss 0.0067 | Win/lose count 19.5/0 (19.5)\n",
      "Epoch 033/100 | Loss 0.0036 | Win/lose count 11.5/3.0 (8.5)\n",
      "Epoch 034/100 | Loss 0.0075 | Win/lose count 8.5/1.0 (7.5)\n",
      "Epoch 035/100 | Loss 0.0056 | Win/lose count 13.5/4.0 (9.5)\n",
      "Epoch 036/100 | Loss 0.0057 | Win/lose count 16.5/7.0 (9.5)\n",
      "Epoch 037/100 | Loss 0.0099 | Win/lose count 8.5/5.0 (3.5)\n",
      "Epoch 038/100 | Loss 0.0102 | Win/lose count 18.5/2.0 (16.5)\n",
      "Epoch 039/100 | Loss 0.0036 | Win/lose count 9.5/1.0 (8.5)\n",
      "Epoch 040/100 | Loss 0.0106 | Win/lose count 11.5/4.0 (7.5)\n",
      "Epoch 041/100 | Loss 0.0101 | Win/lose count 12.5/6.0 (6.5)\n",
      "Epoch 042/100 | Loss 0.0075 | Win/lose count 13.5/2.0 (11.5)\n",
      "Epoch 043/100 | Loss 0.0061 | Win/lose count 6.5/2.0 (4.5)\n",
      "Epoch 044/100 | Loss 0.0062 | Win/lose count 11.0/4.0 (7.0)\n",
      "Epoch 045/100 | Loss 0.0102 | Win/lose count 15.5/3.0 (12.5)\n",
      "Epoch 046/100 | Loss 0.0102 | Win/lose count 6.5/5.0 (1.5)\n",
      "Epoch 047/100 | Loss 0.0247 | Win/lose count 10.0/2.0 (8.0)\n",
      "Epoch 048/100 | Loss 0.0054 | Win/lose count 4.5/4.0 (0.5)\n",
      "Epoch 049/100 | Loss 0.0089 | Win/lose count 8.0/2.0 (6.0)\n",
      "Epoch 050/100 | Loss 0.0083 | Win/lose count 8.0/1.0 (7.0)\n",
      "Epoch 051/100 | Loss 0.0237 | Win/lose count 8.0/1.0 (7.0)\n",
      "Epoch 052/100 | Loss 0.0231 | Win/lose count 12.0/5.0 (7.0)\n",
      "Epoch 053/100 | Loss 0.0061 | Win/lose count 9.5/7.0 (2.5)\n",
      "Epoch 054/100 | Loss 0.0048 | Win/lose count 5.5/7.0 (-1.5)\n",
      "Epoch 055/100 | Loss 0.0107 | Win/lose count 7.5/1.0 (6.5)\n",
      "Epoch 056/100 | Loss 0.0063 | Win/lose count 11.0/2.0 (9.0)\n",
      "Epoch 057/100 | Loss 0.0223 | Win/lose count 7.5/5.0 (2.5)\n",
      "Epoch 058/100 | Loss 0.0079 | Win/lose count 13.0/4.0 (9.0)\n",
      "Epoch 059/100 | Loss 0.0078 | Win/lose count 14.0/8.0 (6.0)\n",
      "Epoch 060/100 | Loss 0.0088 | Win/lose count 14.5/4.0 (10.5)\n",
      "Epoch 061/100 | Loss 0.0118 | Win/lose count 13.0/2.0 (11.0)\n",
      "Epoch 062/100 | Loss 0.0235 | Win/lose count 5.0/5.0 (0.0)\n",
      "Epoch 063/100 | Loss 0.0077 | Win/lose count 6.0/4.0 (2.0)\n",
      "Epoch 064/100 | Loss 0.0074 | Win/lose count 1.5/1.0 (0.5)\n",
      "Epoch 065/100 | Loss 0.0121 | Win/lose count 7.0/3.0 (4.0)\n",
      "Epoch 066/100 | Loss 0.0097 | Win/lose count 5.5/1.0 (4.5)\n",
      "Epoch 067/100 | Loss 0.0103 | Win/lose count 8.5/5.0 (3.5)\n",
      "Epoch 068/100 | Loss 0.0094 | Win/lose count 8.0/5.0 (3.0)\n",
      "Epoch 069/100 | Loss 0.0077 | Win/lose count 7.0/1.0 (6.0)\n",
      "Epoch 070/100 | Loss 0.0108 | Win/lose count 9.0/0 (9.0)\n",
      "Epoch 071/100 | Loss 0.0085 | Win/lose count 5.5/0 (5.5)\n",
      "Epoch 072/100 | Loss 0.0091 | Win/lose count 11.0/5.0 (6.0)\n",
      "Epoch 073/100 | Loss 0.0294 | Win/lose count 5.0/2.0 (3.0)\n",
      "Epoch 074/100 | Loss 0.0088 | Win/lose count 6.0/4.0 (2.0)\n",
      "Epoch 075/100 | Loss 0.0240 | Win/lose count 11.0/1.0 (10.0)\n",
      "Epoch 076/100 | Loss 0.0083 | Win/lose count 6.0/5.0 (1.0)\n",
      "Epoch 077/100 | Loss 0.0488 | Win/lose count 9.5/5.0 (4.5)\n",
      "Epoch 078/100 | Loss 0.0122 | Win/lose count 3.0/1.0 (2.0)\n",
      "Epoch 079/100 | Loss 0.0260 | Win/lose count 12.0/3.0 (9.0)\n",
      "Epoch 080/100 | Loss 0.0118 | Win/lose count 5.0/1.0 (4.0)\n",
      "Epoch 081/100 | Loss 0.0090 | Win/lose count 4.5/4.0 (0.5)\n",
      "Epoch 082/100 | Loss 0.0120 | Win/lose count 5.5/1.0 (4.5)\n",
      "Epoch 083/100 | Loss 0.0079 | Win/lose count 5.5/3.0 (2.5)\n",
      "Epoch 084/100 | Loss 0.0105 | Win/lose count 6.5/3.0 (3.5)\n",
      "Epoch 085/100 | Loss 0.0117 | Win/lose count 8.0/0 (8.0)\n",
      "Epoch 086/100 | Loss 0.0125 | Win/lose count 6.5/5.0 (1.5)\n",
      "Epoch 087/100 | Loss 0.0236 | Win/lose count 15.0/9.0 (6.0)\n",
      "Epoch 088/100 | Loss 0.0116 | Win/lose count 3.0/3.0 (0.0)\n",
      "Epoch 089/100 | Loss 0.0134 | Win/lose count 6.5/4.0 (2.5)\n",
      "Epoch 090/100 | Loss 0.0360 | Win/lose count 8.5/3.0 (5.5)\n",
      "Epoch 091/100 | Loss 0.0138 | Win/lose count 3.0/5.0 (-2.0)\n",
      "Epoch 092/100 | Loss 0.0429 | Win/lose count 6.5/2.0 (4.5)\n",
      "Epoch 093/100 | Loss 0.0105 | Win/lose count 4.5/3.0 (1.5)\n",
      "Epoch 094/100 | Loss 0.0113 | Win/lose count 7.0/5.0 (2.0)\n",
      "Epoch 095/100 | Loss 0.0094 | Win/lose count 4.5/2.0 (2.5)\n",
      "Epoch 096/100 | Loss 0.0160 | Win/lose count 7.5/3.0 (4.5)\n",
      "Epoch 097/100 | Loss 0.0098 | Win/lose count 7.5/2.0 (5.5)\n",
      "Epoch 098/100 | Loss 0.0142 | Win/lose count 6.0/3.0 (3.0)\n",
      "Epoch 099/100 | Loss 0.0118 | Win/lose count 2.5/2.0 (0.5)\n"
     ]
    },
    {
     "data": {
      "text/html": [
       "<video alt=\"test\" controls>\n",
       "                <source src=\"data:video/mp4;base64,AAAAIGZ0eXBpc29tAAACAGlzb21pc28yYXZjMW1wNDEAAAAIZnJlZQAAGOJtZGF0AAACrQYF//+p3EXpvebZSLeWLNgg2SPu73gyNjQgLSBjb3JlIDE1NyByMjkzNSA1NDVkZTJmIC0gSC4yNjQvTVBFRy00IEFWQyBjb2RlYyAtIENvcHlsZWZ0IDIwMDMtMjAxOCAtIGh0dHA6Ly93d3cudmlkZW9sYW4ub3JnL3gyNjQuaHRtbCAtIG9wdGlvbnM6IGNhYmFjPTEgcmVmPTMgZGVibG9jaz0xOjA6MCBhbmFseXNlPTB4MToweDExMSBtZT1oZXggc3VibWU9NyBwc3k9MSBwc3lfcmQ9MS4wMDowLjAwIG1peGVkX3JlZj0xIG1lX3JhbmdlPTE2IGNocm9tYV9tZT0xIHRyZWxsaXM9MSA4eDhkY3Q9MCBjcW09MCBkZWFkem9uZT0yMSwxMSBmYXN0X3Bza2lwPTEgY2hyb21hX3FwX29mZnNldD00IHRocmVhZHM9NiBsb29rYWhlYWRfdGhyZWFkcz0xIHNsaWNlZF90aHJlYWRzPTAgbnI9MCBkZWNpbWF0ZT0xIGludGVybGFjZWQ9MCBibHVyYXlfY29tcGF0PTAgY29uc3RyYWluZWRfaW50cmE9MCBiZnJhbWVzPTMgYl9weXJhbWlkPTIgYl9hZGFwdD0xIGJfYmlhcz0wIGRpcmVjdD0xIHdlaWdodGI9MSBvcGVuX2dvcD0wIHdlaWdodHA9MiBrZXlpbnQ9MjUwIGtleWludF9taW49MjUgc2NlbmVjdXQ9NDAgaW50cmFfcmVmcmVzaD0wIHJjX2xvb2thaGVhZD00MCByYz1jcmYgbWJ0cmVlPTEgY3JmPTIzLjAgcWNvbXA9MC42MCBxcG1pbj0wIHFwbWF4PTY5IHFwc3RlcD00IGlwX3JhdGlvPTEuNDAgYXE9MToxLjAwAIAAAAMPZYiEADf//vaH+BTZWBP+Wb/9DX/cj9uPrP1xYyEE31qvIejAGS+1H+b/rFFs6Z6UB/fgCJQAc24ZwpJw4v/ApLdW+BTLYTkVLnX1aIxw4jw34T+sr18TxUD2kQXndsMQ7SGO2/j8qhwQoA0ekSwEOYmhOYD2Vzv9rFCJ3okjPB4s7fTUbT8JdLOAf9BVs1dQ4gg0TiUweKxJTKnp+V/wBQlhMKcFOdDsMF3p+T2LF5RIlqVUZEkFouLDqqNHBBem2WgoKZFC4MuBNDBNFmEoWux48BSKMCTFANxEfzMF6Ec1uOzauO/11IpuX32nuX1wf6O7g4A3kZDTZjrCRkgiNx/nJBPZO853JMcU7Bs83jFpKjp14oWUVW8Ivv/NKweyO5lSj/NgYyC0gmvvi9s9lvuqIEowtrLxktkUlU6RFvg5j/2lvBLmpJUwSXdOR0EHAW3IcyfUOVLshcYCpmTOxWSGxnv3XkFmL04wZop8yrxj+TYpw6UxzoByWYMnvBmMiQb7k+gsfpOIGlCw2VXqiYS0HoWkriirsHPcS3M4YOc0myhQO7Kiyr58898AWhAcJK0F+gBxBiV7eOXvBLXpGlyrIHhXGd8iBgR5+FOTXI666URWUT1eAI7EoBoyjxQMYIW73sDxugCEG+b9paCtk4GJZZ0eJlj/aJ/Ktco6RbUMOp8xRK/dLUnqh2Ag2xoUaPUYc2U0OPOzKUKaiOrxRYT9p3IEc5gkZ6t8g9/mUKHKoJ80RvKDsEPI79q5ReBeizyQVCobi6t464FcDgD57/6yqNy9oGNnrzHep6fqA5wwwCdhDJm8Z8DYs1o061Tl099nwH65/yMkACm1tpRxkWhrFhZ2fY6C8tk8lKcsjKLAOiIBrF93mZ9qhEsfUM9gjJZ9/wE6BkXqOYQuGAM8BJwYNPbc2qDt4473dj+kDC0O+in1ljODUDsHSoBNWPtIPGRdZVDb1jxOyp3rDLNEOX5cZTHHpPk0e8A6rXUmW73fU2IxE9F1GMiP6oVL4ozspMaKEBMuP9nhdXWWAAF5AAAAFEGaJGxDf/6nhABWTHNE/+z7rcpgAAAAEkGeQniF/wAzixOTNrur7A84TwAAABABnmF0Qr8ARXzVA6dqGzmAAAAAEAGeY2pCvwBFZPnOtDC8nMEAAAAaQZplSahBaJlMCG///qeEADY+wf4Tgt0JakEAAAAYQZqISeEKUmUwIZ/+nhAAh3xD+2Qx9YWVAAAAD0GepkU0TCv/ABxQf81g4QAAAA8BnsdqQr8AEteaILUeXw4AAAAaQZrJSahBaJlMCG///qeEABbPdT9RxoSHScAAAAAdQZrrSeEKUmUwURLDf/6nhAAOj7B/lrpbnBNE/S0AAAAQAZ8KakK/AAvxLadeAKCAgAAAABhBmwxJ4Q6JlMCG//6nhAAGJ9g9ezPgjEUAAAAYQZsuSeEPJlMFFTw3//6nhAADz++z7d9BAAAADwGfTWpCvwAE2DWBdf5OwQAAABJBm1BJ4Q8mUwU8N//+p4QAAScAAAAQAZ9vakK/AATJYt2K0fdQwAAAABtBm3FJ4Q8mUwIb//6nhAAF/+AwD+7z4Lbr/4AAAAAeQZuVSeEPJlMCG//+p4QABdfj9Anf5mH3kZet0xMbAAAAFUGfs0URPC//AAN0HoiDmKSP3axJ/gAAABABn9J0Qr8ABLXVoyS3+1+AAAAAEAGf1GpCvwADJOqeS5nzAIEAAAAqQZvYSahBaJlMCGf//p4QACTfPrV5lljCp+ZZMHAeZW+rCscOym6oep5AAAAAFUGf9kURLCv/AAeZmfOqwrAfq0/JgQAAABABnhdqQr8AB5mYPJgevlmBAAAAGEGaGUmoQWyZTAhn//6eEAA4hTjn6X9zmwAAABlBmjpJ4QpSZTAhv/6nhAAWr0T/Vb5j8UnBAAAAJUGaXEnhDomUwU0TDf/+p4QANjuM1+IQA//hKljz//zV/oq6d8gAAAAQAZ57akK/ACxWPHK/tw/pQQAAABlBmn1J4Q8mUwIb//6nhABT/RP9VvmPxFBBAAAAF0GagEnhDyZTAhv//qeEAFR+NP3OoGKCAAAAEUGevkURPCv/AEVzRvNN71GZAAAADgGe32pCvwBFZRj0RXCdAAAAGEGaw0moQWiZTAhv//6nhABUBDLb5j8RQQAAABJBnuFFESwr/wBDdngQkY/cHYEAAAAOAZ8CakK/AEN2eun6mOwAAAAYQZsGSahBbJlMCGf//p4QAUj4nfbb9qVNAAAAEUGfJEUVLCv/AEVzRvNN71GZAAAADgGfRWpCvwBFZRj0RXCdAAAAHEGbR0moQWyZTAhv//6nhAA2PsrBj/y5BboS1IEAAAAWQZtqSeEKUmUwIZ/+nhAA0tNS+ZOggAAAABJBn4hFNEwr/wAsVjwISMfuOMAAAAAOAZ+pakK/ACxWPXT9TccAAAAZQZurSahBaJlMCGf//p4QAUbgxz+HOb6z3QAAABhBm8xJ4QpSZTAhn/6eEAFI+J2dboGSHKwAAAAZQZvtSeEOiZTAhv/+p4QAUj5BH69mfBFfUwAAABlBmg5J4Q8mUwIb//6nhABP/dT9RxoSHFTBAAAAGEGaMknhDyZTAhv//qeEACDfRz47b0bEkQAAABVBnlBFETwv/wAeFq/tIW0fRZXn6oAAAAAPAZ5vdEK/ACoJyhSbZKtBAAAAEAGecWpCvwAqFhHkwPXudIEAAAAaQZpzSahBaJlMCG///qeEADO+wf4Tgt0Jb0AAAAARQZqXSeEKUmUwIb/+p4QAAScAAAAMQZ61RTRML/8AALKBAAAAEAGe1HRCvwAavOTiOy7LWYAAAAAQAZ7WakK/ABq85O9nj7fVgQAAABxBmtlJqEFomUwU8N/+p4QANK6tUx/q3b7B+uR9AAAAEAGe+GpCvwArNjy3DZtT5YAAAAAcQZr7SeEKUmUwUsM//p4QATUQ502C9Edff0wAwQAAABABnxpqQr8AQV5omRNKzfpAAAAAG0GbHEnhDomUwIZ//p4QAdopxz+HPiBw/wjjgQAAABhBmz1J4Q8mUwIb//6nhAC9+if6lIBU1MEAAAAhQZtfSeEPJlMFETwz//6eEASQQ5VuC8nPiApnzln1NsWAAAAAEAGffmpCvwDys8IeNDWMoYAAAAAYQZtgSeEPJlMCG//+p4QCQdE/1AqqBKmBAAAAHkGbgknhDyZTBRE8M//+nhAIp4uH/K61oySrcicllAAAABABn6FqQr8BfyO3OqZjdmFBAAAAGkGbo0nhDyZTAhv//qeEAgvkcDc/e8GQoRI+AAAAGUGbxEnhDyZTAhv//qeEAR346fUcaEhwXcEAAAAcQZvnSeEPJlMCG//+p4QB7IgB9T5D2D8JS3xJWQAAABJBngVFETwr/wFjsg3gKR9e4zcAAAAQAZ4makK/AWOx45X9uHzZQQAAAB1BmilJqEFomUwU8M/+nhAbiHKtwXI3voiI3YUMWAAAABABnkhqQr8CSMweTAm7nPmAAAAAGEGaSknhClJlMCGf/p4QHqpx/QKPxs6MqQAAABhBmmtJ4Q6JlMCG//6nhAnr7/PTC+e3hBwAAAAfQZqNSeEPJlMFETw3//6nhAtLDGpc0/Xf2nuxWwCqgAAAABABnqxqQr8CkTRvNLrWTWzBAAAAIEGar0nhDyZTBTw3//6nhAJp3U/W/XgeDc/B4E1+U5YFAAAAEAGezmpCvwGJJkmm+kg4lJEAAAAYQZrQSeEPJlMCG//+p4QBPFB1OXIc1qmAAAAAHkGa80nhDyZTAhv//qeEAM37B/lrpdSp/ia/zkGSQAAAABNBnxFFETwr/wCoNuiqzzCMZPKBAAAADwGfMmpCvwBsCWlSKBKp6QAAABxBmzVJqEFomUwU8N/+p4QAVH40/khvhxZClECYAAAAEAGfVGpCvwBDZZDD6AkHHpkAAAAcQZtXSeEKUmUwUsM//p4QANj6+/psoXLrZq2g4AAAABABn3ZqQr8ALW1851oYXnLBAAAAGEGbeEnhDomUwIZ//p4QAId8Q/tkMfWFlQAAABlBm5lJ4Q8mUwIb//6nhAAWz3U/UcaEh0nAAAAAGUGbuknhDyZTAhv//qeEAA6PsH+E4LdCokEAAAAdQZvcSeEPJlMFETw3//6nhAAJd8dPuZGFsxQjnkwAAAAPAZ/7akK/AAeYH9UigSwxAAAAGUGb/0nhDyZTAhv//qeEAAX/2D/CcFuhlkEAAAAPQZ4dRRE8K/8ABNZXAp7AAAAADQGePmpCvwAE2DWHjPYAAAAaQZogSahBaJlMCHf//qmWAAHzHT8pox+tY8EAAAAYQZpCSeEKUmUwURLDv/6plgACA/Hn8o3AAAAADwGeYWpCvwADTAsbA5VzgQAAABpBmmZJ4Q6JlMCHf/6plgADAZPxmgU+jH6e9AAAABBBnoRFFTwv/wADifxV5IAhAAAAEAGeo3RCvwAE+6Ac7Y40+mEAAAAPAZ6lakK/AATYNYF1/k7BAAAAGkGaqUmoQWiZTAh3//6plgADBe0vC1BP7EjBAAAAEkGex0URLCv/AATWUAQCmAd3QAAAAA4BnuhqQr8ABNg0q6nVCQAAABtBmu1JqEFsmUwId//+qZYAAvHykgcP9i1nEocAAAAVQZ8LRRUsL/8AA3QjjgDKGn0WV3QYAAAAEAGfKnRCvwAEtdWjJLf7X4AAAAAQAZ8sakK/AAMk6p5LmfMAgQAAABNBmzFJqEFsmUwId//+qZYAAJWBAAAADEGfT0UVLC//AACygQAAABABn250Qr8ABNhAHP60DozAAAAAEAGfcGpCvwAE1ta7rIYdGYAAAAATQZt1SahBbJlMCHf//qmWAACVgQAAAAxBn5NFFSwv/wAAsoAAAAAQAZ+ydEK/AATYQBz+tA6MwAAAABABn7RqQr8ABNbWu6yGHRmBAAAAE0GbuUmoQWyZTAh3//6plgAAlYAAAAAMQZ/XRRUsL/8AALKBAAAAEAGf9nRCvwAE2EAc/rQOjMEAAAAQAZ/4akK/AATW1rushh0ZgAAAABJBm/1JqEFsmUwIb//+p4QAAScAAAAMQZ4bRRUsL/8AALKAAAAAEAGeOnRCvwAE2EAc/rQOjMEAAAAQAZ48akK/AATW1rushh0ZgQAAABJBmiFJqEFsmUwIb//+p4QAAScAAAAMQZ5fRRUsL/8AALKAAAAAEAGefnRCvwAE2EAc/rQOjMEAAAAQAZ5gakK/AATW1rushh0ZgAAAABlBmmRJqEFsmUwIZ//+nhAAFz4Mc/hzm+zJAAAAD0GegkUVLCv/AATWVwKewAAAAA0BnqNqQr8ABNg1h4z3AAAAGUGapUmoQWyZTAhv//6nhAAF/9g9ezPgjE0AAAAZQZrGSeEKUmUwIb/+p4QACOoAs22z7PnvQQAAAC9BmuhJ4Q6JlMFNEw3//qeEABWtvQb4hAD/+EqILMX/+EmI/F//r/5cgtzgYV6FcQAAABABnwdqQr8AEV2eOV/biDdAAAAAGEGbCUnhDyZTAh3//qmWABCEWG6KcEGy6AAAABJBmy1J4Q8mUwId//6plgAAlYEAAAATQZ9LRRE8L/8AHa3b6LFdxaPqbgAAABABn2p0Qr8AKh0A52xxpqEgAAAAEAGfbGpCvwAo7chh9ASDlFkAAAASQZtxSahBaJlMCG///qeEAAEnAAAAEUGfj0URLC//AB24lufriXmBAAAAEAGfrnRCvwAqHQDnbHGmoSAAAAAQAZ+wakK/ACjtyGH0BIOUWAAAABJBm7VJqEFsmUwIb//+p4QAAScAAAARQZ/TRRUsL/8AHbiW5+uJeYAAAAAQAZ/ydEK/ACodAOdscaahIAAAABABn/RqQr8AKO3IYfQEg5RZAAAAHUGb90moQWyZTBRMN//+p4QANK6tUx/q3b7B+uR8AAAAEAGeFmpCvwArNjy3DZtT5YEAAAAcQZoZSeEKUmUwUsN//qeEAFPxWqY/1bt9g/XD+QAAAA8BnjhqQr8AQ3YjyYHr3C8AAAAYQZo8SeEOiZTAhn/+nhABSPid9shj6wlTAAAAEUGeWkUVPCv/AEVzRvNN71GZAAAADgGee2pCvwBFZRj0RXCdAAAAGUGafUmoQWiZTAhn//6eEADT+vv5EiPrCf8AAAAZQZqeSeEKUmUwIb/+p4QAIt8dPqONCQ5gQAAAABlBmr9J4Q6JlMCG//6nhAAWz3U/UcaEh0nAAAAAHEGawUnhDyZTBRE8O//+qZYAB1PaX9cgnZN1uj0AAAAQAZ7gakK/AAvxLadeAKCAgAAAABtBmuVJ4Q8mUwIb//6nhAAGJ9g/zlOvCjW5l/kAAAAQQZ8DRRE8L/8AA5/8PXXYwAAAABABnyJ0Qr8ABPk1oyS3+1eBAAAADwGfJGpCvwAE1ta7vu+8wQAAABpBmyZJqEFomUwId//+qZYAAwFSDNAHpL7Y0QAAABJBm0pJ4QpSZTAh3/6plgAAlYEAAAATQZ9oRTRML/8ABWU2fmbcTpj93AAAABABn4d0Qr8AB27FYtjZUqtwAAAAEAGfiWpCvwAHbVwa48VbdSEAAAATQZuOSahBaJlMCHf//qmWAACVgAAAAAxBn6xFESwv/wAAsoAAAAAQAZ/LdEK/AATJUjvwAfdQwQAAAA8Bn81qQr8ABPlGiC1HmTMAAAAcQZvSSahBbJlMCG///qeEAAjo+aprNua8dPtkWQAAABBBn/BFFSwv/wAFZoEVpRu4AAAADwGeD3RCvwAE1tGLgPzwYAAAABABnhFqQr8AB2ucNe80rRvBAAAAGkGaFEmoQWyZTBRMO//+qZYABIfjz+ZsUyQLAAAAEAGeM2pCvwAHbVwa48VbdSAAAAAYQZo4SeEKUmUwIb/+p4QACOqDvb3U/bItAAAAEEGeVkU0TC//AAVmgRWlG7gAAAAPAZ51dEK/AATW0YuA/PBhAAAAEAGed2pCvwAHa5w17zStG8EAAAAZQZp6SahBaJlMFPDf/qeEAAj3x0+63x3lLAAAABABnplqQr8AB21cGuPFW3UhAAAAEUGanknhClJlMCG//qeEAAEnAAAADEGevEU0TC//AACygQAAABABntt0Qr8ABMlSO/AB91DBAAAAEAGe3WpCvwAEyVI72ePuoYAAAAAcQZrASahBaJlMFPDP/p4QACKiHOmwXojr7+nAwAAAABABnv9qQr8AB2ucNe80rRvBAAAAGUGa4UnhClJlMCG//qeEAA3NIn+q3zH4u6AAAAAnQZsDSeEOiZTBTRMM//6eEAB/dmSfxCO8X//EIyVH/+zN9eRTfd75AAAAEAGfImpCvwAbB2o5X9uID8AAAAAZQZskSeEPJlMCG//+p4QAM3SJ/qt8x+I/wQAAABdBm0dJ4Q8mUwIZ//6eEADJ+vv5Gl1Q8QAAABJBn2VFETwr/wA/j8DoSbrWF0EAAAAOAZ+GakK/AD+BAs78LJsAAAAbQZuJS6hCEFokRggoB/IB/YeAU8K//jhAABFwAAAAJQGfqGpCvwKvY+1BxN2qw0km5aqGByy1u80sZ8aDFGEp7kjXycAAAAvAbW9vdgAAAGxtdmhkAAAAAAAAAAAAAAAAAAAD6AAAH5AAAQAAAQAAAAAAAAAAAAAAAAEAAAAAAAAAAAAAAAAAAAABAAAAAAAAAAAAAAAAAABAAAAAAAAAAAAAAAAAAAAAAAAAAAAAAAAAAAAAAAAAAgAACup0cmFrAAAAXHRraGQAAAADAAAAAAAAAAAAAAABAAAAAAAAH5AAAAAAAAAAAAAAAAAAAAAAAAEAAAAAAAAAAAAAAAAAAAABAAAAAAAAAAAAAAAAAABAAAAAARAAAAEQAAAAAAAkZWR0cwAAABxlbHN0AAAAAAAAAAEAAB+QAAAEAAABAAAAAApibWRpYQAAACBtZGhkAAAAAAAAAAAAAAAAAAAyAAABlABVxAAAAAAALWhkbHIAAAAAAAAAAHZpZGUAAAAAAAAAAAAAAABWaWRlb0hhbmRsZXIAAAAKDW1pbmYAAAAUdm1oZAAAAAEAAAAAAAAAAAAAACRkaW5mAAAAHGRyZWYAAAAAAAAAAQAAAAx1cmwgAAAAAQAACc1zdGJsAAAAlXN0c2QAAAAAAAAAAQAAAIVhdmMxAAAAAAAAAAEAAAAAAAAAAAAAAAAAAAAAARABEABIAAAASAAAAAAAAAABAAAAAAAAAAAAAAAAAAAAAAAAAAAAAAAAAAAAAAAAAAAAGP//AAAAL2F2Y0MB9AAN/+EAF2f0AA2RmygiEdCAAAADAIAAABkHihTLAQAFaOvjxEgAAAAYc3R0cwAAAAAAAAABAAAAygAAAgAAAAAUc3RzcwAAAAAAAAABAAAAAQAABZhjdHRzAAAAAAAAALEAAAABAAAEAAAAAAEAAAoAAAAAAQAABAAAAAABAAAAAAAAAAEAAAIAAAAAAQAABAAAAAABAAAIAAAAAAIAAAIAAAAAAQAABAAAAAABAAAGAAAAAAEAAAIAAAAAAQAABAAAAAABAAAGAAAAAAEAAAIAAAAAAQAABgAAAAABAAACAAAAAAEAAAQAAAAAAQAACgAAAAABAAAEAAAAAAEAAAAAAAAAAQAAAgAAAAABAAAIAAAAAAIAAAIAAAAAAgAABAAAAAABAAAGAAAAAAEAAAIAAAAAAQAABAAAAAABAAAIAAAAAAIAAAIAAAAAAQAACAAAAAACAAACAAAAAAEAAAgAAAAAAgAAAgAAAAABAAAEAAAAAAEAAAgAAAAAAgAAAgAAAAAEAAAEAAAAAAEAAAoAAAAAAQAABAAAAAABAAAAAAAAAAEAAAIAAAAAAQAABAAAAAABAAAKAAAAAAEAAAQAAAAAAQAAAAAAAAABAAACAAAAAAEAAAYAAAAAAQAAAgAAAAABAAAGAAAAAAEAAAIAAAAAAgAABAAAAAABAAAGAAAAAAEAAAIAAAAAAQAABAAAAAABAAAGAAAAAAEAAAIAAAAAAgAABAAAAAABAAAIAAAAAAIAAAIAAAAAAQAABgAAAAABAAACAAAAAAIAAAQAAAAAAQAABgAAAAABAAACAAAAAAEAAAYAAAAAAQAAAgAAAAABAAAEAAAAAAEAAAgAAAAAAgAAAgAAAAABAAAGAAAAAAEAAAIAAAAAAQAABgAAAAABAAACAAAAAAMAAAQAAAAAAQAABgAAAAABAAACAAAAAAEAAAgAAAAAAgAAAgAAAAABAAAEAAAAAAEAAAYAAAAAAQAAAgAAAAABAAAKAAAAAAEAAAQAAAAAAQAAAAAAAAABAAACAAAAAAEAAAgAAAAAAgAAAgAAAAABAAAKAAAAAAEAAAQAAAAAAQAAAAAAAAABAAACAAAAAAEAAAoAAAAAAQAABAAAAAABAAAAAAAAAAEAAAIAAAAAAQAACgAAAAABAAAEAAAAAAEAAAAAAAAAAQAAAgAAAAABAAAKAAAAAAEAAAQAAAAAAQAAAAAAAAABAAACAAAAAAEAAAoAAAAAAQAABAAAAAABAAAAAAAAAAEAAAIAAAAAAQAACgAAAAABAAAEAAAAAAEAAAAAAAAAAQAAAgAAAAABAAAIAAAAAAIAAAIAAAAAAgAABAAAAAABAAAGAAAAAAEAAAIAAAAAAQAABAAAAAABAAAKAAAAAAEAAAQAAAAAAQAAAAAAAAABAAACAAAAAAEAAAoAAAAAAQAABAAAAAABAAAAAAAAAAEAAAIAAAAAAQAACgAAAAABAAAEAAAAAAEAAAAAAAAAAQAAAgAAAAABAAAGAAAAAAEAAAIAAAAAAQAABgAAAAABAAACAAAAAAEAAAgAAAAAAgAAAgAAAAADAAAEAAAAAAEAAAYAAAAAAQAAAgAAAAABAAAKAAAAAAEAAAQAAAAAAQAAAAAAAAABAAACAAAAAAEAAAQAAAAAAQAACgAAAAABAAAEAAAAAAEAAAAAAAAAAQAAAgAAAAABAAAKAAAAAAEAAAQAAAAAAQAAAAAAAAABAAACAAAAAAEAAAoAAAAAAQAABAAAAAABAAAAAAAAAAEAAAIAAAAAAQAABgAAAAABAAACAAAAAAEAAAoAAAAAAQAABAAAAAABAAAAAAAAAAEAAAIAAAAAAQAABgAAAAABAAACAAAAAAEAAAoAAAAAAQAABAAAAAABAAAAAAAAAAEAAAIAAAAAAQAABgAAAAABAAACAAAAAAEAAAQAAAAAAQAABgAAAAABAAACAAAAAAEAAAQAAAAAAQAACAAAAAACAAACAAAAAAEAAAYAAAAAAQAAAgAAAAAcc3RzYwAAAAAAAAABAAAAAQAAAMoAAAABAAADPHN0c3oAAAAAAAAAAAAAAMoAAAXEAAAAGAAAABYAAAAUAAAAFAAAAB4AAAAcAAAAEwAAABMAAAAeAAAAIQAAABQAAAAcAAAAHAAAABMAAAAWAAAAFAAAAB8AAAAiAAAAGQAAABQAAAAUAAAALgAAABkAAAAUAAAAHAAAAB0AAAApAAAAFAAAAB0AAAAbAAAAFQAAABIAAAAcAAAAFgAAABIAAAAcAAAAFQAAABIAAAAgAAAAGgAAABYAAAASAAAAHQAAABwAAAAdAAAAHQAAABwAAAAZAAAAEwAAABQAAAAeAAAAFQAAABAAAAAUAAAAFAAAACAAAAAUAAAAIAAAABQAAAAfAAAAHAAAACUAAAAUAAAAHAAAACIAAAAUAAAAHgAAAB0AAAAgAAAAFgAAABQAAAAhAAAAFAAAABwAAAAcAAAAIwAAABQAAAAkAAAAFAAAABwAAAAiAAAAFwAAABMAAAAgAAAAFAAAACAAAAAUAAAAHAAAAB0AAAAdAAAAIQAAABMAAAAdAAAAEwAAABEAAAAeAAAAHAAAABMAAAAeAAAAFAAAABQAAAATAAAAHgAAABYAAAASAAAAHwAAABkAAAAUAAAAFAAAABcAAAAQAAAAFAAAABQAAAAXAAAAEAAAABQAAAAUAAAAFwAAABAAAAAUAAAAFAAAABYAAAAQAAAAFAAAABQAAAAWAAAAEAAAABQAAAAUAAAAHQAAABMAAAARAAAAHQAAAB0AAAAzAAAAFAAAABwAAAAWAAAAFwAAABQAAAAUAAAAFgAAABUAAAAUAAAAFAAAABYAAAAVAAAAFAAAABQAAAAhAAAAFAAAACAAAAATAAAAHAAAABUAAAASAAAAHQAAAB0AAAAdAAAAIAAAABQAAAAfAAAAFAAAABQAAAATAAAAHgAAABYAAAAXAAAAFAAAABQAAAAXAAAAEAAAABQAAAATAAAAIAAAABQAAAATAAAAFAAAAB4AAAAUAAAAHAAAABQAAAATAAAAFAAAAB0AAAAUAAAAFQAAABAAAAAUAAAAFAAAACAAAAAUAAAAHQAAACsAAAAUAAAAHQAAABsAAAAWAAAAEgAAAB8AAAApAAAAFHN0Y28AAAAAAAAAAQAAADAAAABidWR0YQAAAFptZXRhAAAAAAAAACFoZGxyAAAAAAAAAABtZGlyYXBwbAAAAAAAAAAAAAAAAC1pbHN0AAAAJal0b28AAAAdZGF0YQAAAAEAAAAATGF2ZjU4LjIwLjEwMA==\" type=\"video/mp4\" />\n",
       "             </video>"
      ],
      "text/plain": [
       "<IPython.core.display.HTML object>"
      ]
     },
     "execution_count": 248,
     "metadata": {},
     "output_type": "execute_result"
    }
   ],
   "source": [
    "env = Environment(grid_size=size, max_time=T, temperature=0.3)\n",
    "agent = DQN_CNN(size, lr=.05, epsilon = 0.1, memory_size=3000, batch_size = 16)\n",
    "train(agent,env,epochs_train,prefix='videos/cnn_train')\n",
    "HTML(display_videos('videos/cnn_train10.mp4'))"
   ]
  },
  {
   "cell_type": "markdown",
   "metadata": {},
   "source": [
    "***\n",
    "***\n",
    "__Question 9__ Test both algorithms and compare their performances. Which issue(s) do you observe? Observe also different behaviors by changing the temperature."
   ]
  },
  {
   "cell_type": "code",
   "execution_count": 249,
   "metadata": {},
   "outputs": [
    {
     "name": "stdout",
     "output_type": "stream",
     "text": [
      "Test of the CNN\n",
      "Win/lose count 6.0/4.0. Average score (2.0)\n",
      "Win/lose count 2.0/1.0. Average score (1.5)\n",
      "Win/lose count 3.5/2.0. Average score (1.5)\n",
      "Win/lose count 1.5/1.0. Average score (1.25)\n",
      "Win/lose count 9.5/1.0. Average score (2.7)\n",
      "Win/lose count 6.0/2.0. Average score (2.9166666666666665)\n",
      "Win/lose count 9.5/3.0. Average score (3.4285714285714284)\n",
      "Win/lose count 5.5/0. Average score (3.6875)\n",
      "Win/lose count 2.5/2.0. Average score (3.3333333333333335)\n",
      "Win/lose count 5.5/3.0. Average score (3.25)\n",
      "Win/lose count 9.5/5.0. Average score (3.3636363636363638)\n",
      "Final score: 3.3636363636363638\n",
      "Test of the FC\n",
      "Win/lose count 11.0/15.0. Average score (-4.0)\n",
      "Win/lose count 2.5/4.0. Average score (-2.75)\n",
      "Win/lose count 2.5/0. Average score (-1.0)\n",
      "Win/lose count 4.5/2.0. Average score (-0.125)\n",
      "Win/lose count 3.0/1.0. Average score (0.3)\n",
      "Win/lose count 4.5/4.0. Average score (0.3333333333333333)\n",
      "Win/lose count 2.5/0. Average score (0.6428571428571429)\n",
      "Win/lose count 7.0/6.0. Average score (0.6875)\n",
      "Win/lose count 5.5/3.0. Average score (0.8888888888888888)\n",
      "Win/lose count 10.5/2.0. Average score (1.65)\n",
      "Win/lose count 1.5/4.0. Average score (1.2727272727272727)\n",
      "Final score: 1.2727272727272727\n"
     ]
    }
   ],
   "source": [
    "env = Environment(grid_size=size, max_time=T,temperature=0.3)\n",
    "agent_cnn = DQN_CNN(size, lr=.1, epsilon = 0.1, memory_size=2000, batch_size = 32)\n",
    "agent_cnn.load(name_weights='models/cnn_trainmodel.h5',name_model='models/cnn_trainmodel.json')\n",
    "\n",
    "agent_fc = DQN_FC(size, lr=.1, epsilon = 0.1, memory_size=2000, batch_size = 32)\n",
    "agent_cnn.load(name_weights='models/fc_trainmodel.h5',name_model='models/fc_trainmodel.json')\n",
    "print('Test of the CNN')\n",
    "test(agent_cnn,env,epochs_test,prefix='models/cnn_test')\n",
    "print('Test of the FC')\n",
    "test(agent_fc,env,epochs_test,prefix='models/fc_test')"
   ]
  },
  {
   "cell_type": "markdown",
   "metadata": {},
   "source": [
    "**As we could expect, the DQN with a CNN performs better than the fully connected DQN**"
   ]
  },
  {
   "cell_type": "code",
   "execution_count": 250,
   "metadata": {},
   "outputs": [
    {
     "data": {
      "text/html": [
       "<video alt=\"test\" controls>\n",
       "                <source src=\"data:video/mp4;base64,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\" type=\"video/mp4\" />\n",
       "             </video>"
      ],
      "text/plain": [
       "<IPython.core.display.HTML object>"
      ]
     },
     "execution_count": 250,
     "metadata": {},
     "output_type": "execute_result"
    }
   ],
   "source": [
    "HTML(display_videos('videos/cnn_test10.mp4'))\n"
   ]
  },
  {
   "cell_type": "code",
   "execution_count": 251,
   "metadata": {},
   "outputs": [
    {
     "data": {
      "text/html": [
       "<video alt=\"test\" controls>\n",
       "                <source src=\"data:video/mp4;base64,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\" type=\"video/mp4\" />\n",
       "             </video>"
      ],
      "text/plain": [
       "<IPython.core.display.HTML object>"
      ]
     },
     "execution_count": 251,
     "metadata": {},
     "output_type": "execute_result"
    }
   ],
   "source": [
    "HTML(display_videos('videos/fc_test10.mp4'))\n"
   ]
  },
  {
   "cell_type": "markdown",
   "metadata": {},
   "source": [
    "**An issue that we can observe is that the agent often gets stuck in a loop, visiting the same empty cells over and over.**"
   ]
  },
  {
   "cell_type": "markdown",
   "metadata": {},
   "source": [
    "### Test for different temperatures"
   ]
  },
  {
   "cell_type": "code",
   "execution_count": 257,
   "metadata": {},
   "outputs": [
    {
     "name": "stdout",
     "output_type": "stream",
     "text": [
      "Test of the CNN - Temperature : 0.3\n",
      "Final score: 4.5\n",
      "Test of the FC - Temperature : 0.3\n",
      "Final score: -0.6363636363636364\n",
      "Test of the CNN - Temperature : 0.6\n",
      "Final score: 3.727272727272727\n",
      "Test of the FC - Temperature : 0.6\n",
      "Final score: 6.863636363636363\n",
      "Test of the CNN - Temperature : 0.9\n",
      "Final score: 5.954545454545454\n",
      "Test of the FC - Temperature : 0.9\n",
      "Final score: 16.40909090909091\n"
     ]
    }
   ],
   "source": [
    "temperatures = [0.3, 0.6, 0.9]\n",
    "for t in temperatures:\n",
    "    env = Environment(grid_size=size, max_time=T,temperature=t)\n",
    "    agent_cnn = DQN_CNN(size, lr=.1, epsilon = 0.1, memory_size=2000, batch_size = 32)\n",
    "    agent_cnn.load(name_weights='models/cnn_trainmodel.h5',name_model='models/cnn_trainmodel.json')\n",
    "\n",
    "    agent_fc = DQN_FC(size, lr=.1, epsilon = 0.1, memory_size=2000, batch_size = 32)\n",
    "    agent_cnn.load(name_weights='models/fc_trainmodel.h5',name_model='models/fc_trainmodel.json')\n",
    "    print('Test of the CNN - Temperature : {}'.format(t))\n",
    "    test(agent_cnn,env,epochs_test,prefix='models/cnn_test_t{}'.format(t), prt=False)\n",
    "    print('Test of the FC - Temperature : {}'.format(t))\n",
    "    test(agent_fc,env,epochs_test,prefix='models/fc_test_t{}'.format(t), prt=False)"
   ]
  },
  {
   "cell_type": "markdown",
   "metadata": {},
   "source": [
    "**It appears that the FC DQN performs a lot better than the CNN DQN for high temperatures. This might be the case because, while both tend to often get stuck in a loop, the FC DQN tends to explore more than the CNN DQN (perhaps less precisely which yields bad score for low temperatures), which pays off when there are more bonuses than maluses.**\n",
    "\n",
    "**The two videos below show example test runs of the two model for a temperature of 0.9.**"
   ]
  },
  {
   "cell_type": "code",
   "execution_count": 279,
   "metadata": {
    "scrolled": true
   },
   "outputs": [
    {
     "name": "stdout",
     "output_type": "stream",
     "text": [
      "Test example of the FC DQN with 0.9 temperature\n"
     ]
    },
    {
     "data": {
      "text/html": [
       "<video alt=\"test\" controls>\n",
       "                <source src=\"data:video/mp4;base64,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\" type=\"video/mp4\" />\n",
       "             </video>"
      ],
      "text/plain": [
       "<IPython.core.display.HTML object>"
      ]
     },
     "execution_count": 279,
     "metadata": {},
     "output_type": "execute_result"
    }
   ],
   "source": [
    "print(\"Test example of the FC DQN with 0.9 temperature\")\n",
    "HTML(display_videos('videos/fc_test_t0.95.mp4'))"
   ]
  },
  {
   "cell_type": "code",
   "execution_count": 6,
   "metadata": {},
   "outputs": [
    {
     "name": "stdout",
     "output_type": "stream",
     "text": [
      "Test example of the CNN DQN with 0.9 temperature\n"
     ]
    },
    {
     "data": {
      "text/html": [
       "<video alt=\"test\" controls>\n",
       "                <source src=\"data:video/mp4;base64,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\" type=\"video/mp4\" />\n",
       "             </video>"
      ],
      "text/plain": [
       "<IPython.core.display.HTML object>"
      ]
     },
     "execution_count": 6,
     "metadata": {},
     "output_type": "execute_result"
    }
   ],
   "source": [
    "print(\"Test example of the CNN DQN with 0.9 temperature\")\n",
    "HTML(display_videos('videos/cnn_test_t0.95.mp4'))"
   ]
  },
  {
   "cell_type": "markdown",
   "metadata": {},
   "source": [
    "***\n",
    "\n",
    "The algorithm tends to not explore the map which can be an issue. We propose two ideas in order to encourage exploration:\n",
    "1. Incorporating a decreasing $\\epsilon$-greedy exploration. You can use the method ```set_epsilon```\n",
    "2. Append via the environment a new state that describes if a cell has been visited or not\n",
    "\n",
    "***\n",
    "__Question 10__ Design a new ```train_explore``` function and environment class ```EnvironmentExploring``` to tackle the issue of exploration.\n",
    "\n"
   ]
  },
  {
   "cell_type": "code",
   "execution_count": 252,
   "metadata": {},
   "outputs": [],
   "source": [
    "def train_explore(agent,env,epoch,prefix=''):\n",
    "    # Number of won games\n",
    "    score = 0\n",
    "    loss = 0\n",
    "\n",
    "    for e in range(epoch):\n",
    "        # At each epoch, we restart to a fresh game and get the initial state\n",
    "        state = env.reset()\n",
    "        # This assumes that the games will terminate\n",
    "        game_over = False\n",
    "\n",
    "        win = 0\n",
    "        lose = 0\n",
    "\n",
    "        while not game_over:\n",
    "            # The agent performs an action\n",
    "            action = agent.act(state)\n",
    "\n",
    "            # Apply an action to the environment, get the next state, the reward\n",
    "            # and if the games end\n",
    "            prev_state = state\n",
    "            state, reward, game_over = env.act(action, train=True)\n",
    "            \n",
    "            # Update the counters\n",
    "            if reward > 0:\n",
    "                win = win + reward\n",
    "            if reward < 0:\n",
    "                lose = lose -reward\n",
    "\n",
    "            # Apply the reinforcement strategy\n",
    "            loss = agent.reinforce(prev_state, state,  action, reward, game_over)\n",
    "\n",
    "        # Save as a mp4\n",
    "        if e % 10 == 0:\n",
    "            env.draw(prefix+str(e))\n",
    "\n",
    "        # Update stats\n",
    "        score += win-lose\n",
    "\n",
    "        print(\"Epoch {:03d}/{:03d} | Loss {:.4f} | Win/lose count {}/{} ({})\"\n",
    "              .format(e, epoch, loss, win, lose, win-lose))\n",
    "        agent.save(name_weights=prefix+'model.h5',name_model=prefix+'model.json')\n",
    "        \n",
    "        \n",
    "class EnvironmentExploring(Environment):\n",
    "    def __init__(self, grid_size=10, max_time=500, temperature=0.1, incr_malus = False):\n",
    "        super(EnvironmentExploring, self).__init__(grid_size=grid_size, \n",
    "                                                   max_time=max_time, \n",
    "                                                   temperature=temperature)\n",
    "        self.malus_position = np.zeros_like(self.board)\n",
    "        \n",
    "    \n",
    "    def act(self, action, train = False):\n",
    "        \"\"\"This function returns the new state, reward and decides if the\n",
    "        game ends.\"\"\"\n",
    "\n",
    "        self.get_frame(int(self.t))\n",
    "\n",
    "        self.position = np.zeros((self.grid_size, self.grid_size))\n",
    "\n",
    "        self.position[0:2,:]= -1\n",
    "        self.position[:,0:2] = -1\n",
    "        self.position[-2:, :] = -1\n",
    "        self.position[-2:, :] = -1\n",
    "\n",
    "        self.position[self.x, self.y] = 1\n",
    "        if action == 0:\n",
    "            if self.x == self.grid_size-3:\n",
    "                self.x = self.x-1\n",
    "            else:\n",
    "                self.x = self.x + 1\n",
    "        elif action == 1:\n",
    "            if self.x == 2:\n",
    "                self.x = self.x+1\n",
    "            else:\n",
    "                self.x = self.x-1\n",
    "        elif action == 2:\n",
    "            if self.y == self.grid_size - 3:\n",
    "                self.y = self.y - 1\n",
    "            else:\n",
    "                self.y = self.y + 1\n",
    "        elif action == 3:\n",
    "            if self.y == 2:\n",
    "                self.y = self.y + 1\n",
    "            else:\n",
    "                self.y = self.y - 1\n",
    "        else:\n",
    "            RuntimeError('Error: action not recognized')\n",
    "\n",
    "        self.t = self.t + 1\n",
    "        reward = 0\n",
    "        if train:\n",
    "            reward = -self.malus_position[self.x, self.y]\n",
    "        if incr_malus:\n",
    "            # The malu of the position increases each time we visit it\n",
    "            self.malus_position[self.x, self.y]+= 0.1\n",
    "        reward = reward + self.board[self.x, self.y]\n",
    "        self.board[self.x, self.y] = 0\n",
    "        \n",
    "        game_over = self.t > self.max_time\n",
    "        state = np.concatenate((self.malus_position.reshape(self.grid_size, self.grid_size,1),\n",
    "                                self.board.reshape(self.grid_size, self.grid_size,1),\n",
    "                        self.position.reshape(self.grid_size, self.grid_size,1)),axis=2)\n",
    "        state = state[self.x-2:self.x+3,self.y-2:self.y+3,:]\n",
    "\n",
    "        return state, reward, game_over\n",
    "    \n",
    "    def reset(self):\n",
    "        \"\"\"This function resets the game and returns the initial state\"\"\"\n",
    "\n",
    "        self.x = np.random.randint(3, self.grid_size-3, size=1)[0]\n",
    "        self.y = np.random.randint(3, self.grid_size-3, size=1)[0]\n",
    "\n",
    "\n",
    "        bonus = 0.5*np.random.binomial(1,self.temperature,size=self.grid_size**2)\n",
    "        bonus = bonus.reshape(self.grid_size,self.grid_size)\n",
    "\n",
    "        malus = -1.0*np.random.binomial(1,self.temperature,size=self.grid_size**2)\n",
    "        malus = malus.reshape(self.grid_size, self.grid_size)\n",
    "\n",
    "        self.to_draw = np.zeros((self.max_time+2, self.grid_size*self.scale, self.grid_size*self.scale, 3))\n",
    "\n",
    "        malus[bonus>0]=0\n",
    "\n",
    "        self.board = bonus + malus\n",
    "\n",
    "        self.position = np.zeros((self.grid_size, self.grid_size))\n",
    "        self.position[0:2,:]= -1\n",
    "        self.position[:,0:2] = -1\n",
    "        self.position[-2:, :] = -1\n",
    "        self.position[-2:, :] = -1\n",
    "        self.board[self.x,self.y] = 0\n",
    "        self.t = 0\n",
    "        \n",
    "        self.malus_position = np.zeros_like(self.board)\n",
    "        \n",
    "        state = np.concatenate((self.malus_position.reshape(self.grid_size, self.grid_size,1),\n",
    "                                self.board.reshape(self.grid_size, self.grid_size,1),\n",
    "                        self.position.reshape(self.grid_size, self.grid_size,1)),axis=2)\n",
    "        state = state[self.x-2:self.x+3,self.y-2:self.y+3,:]\n",
    "        return state"
   ]
  },
  {
   "cell_type": "code",
   "execution_count": 253,
   "metadata": {
    "scrolled": false
   },
   "outputs": [
    {
     "name": "stdout",
     "output_type": "stream",
     "text": [
      "Epoch 000/100 | Loss 0.0221 | Win/lose count 7.5/28.60000000000012 (-21.10000000000012)\n",
      "Epoch 001/100 | Loss 0.0273 | Win/lose count 11.0/21.500000000000057 (-10.500000000000057)\n",
      "Epoch 002/100 | Loss 0.0192 | Win/lose count 8.0/21.500000000000046 (-13.500000000000046)\n",
      "Epoch 003/100 | Loss 0.0079 | Win/lose count 15.5/16.499999999999968 (-0.999999999999968)\n",
      "Epoch 004/100 | Loss 0.0164 | Win/lose count 8.0/17.399999999999984 (-9.399999999999984)\n",
      "Epoch 005/100 | Loss 0.0116 | Win/lose count 10.0/16.59999999999997 (-6.5999999999999694)\n",
      "Epoch 006/100 | Loss 0.0092 | Win/lose count 9.0/25.90000000000011 (-16.90000000000011)\n",
      "Epoch 007/100 | Loss 0.0061 | Win/lose count 9.5/15.599999999999964 (-6.099999999999964)\n",
      "Epoch 008/100 | Loss 0.0119 | Win/lose count 11.5/18.800000000000008 (-7.300000000000008)\n",
      "Epoch 009/100 | Loss 0.0090 | Win/lose count 15.0/20.10000000000001 (-5.1000000000000085)\n",
      "Epoch 010/100 | Loss 0.0153 | Win/lose count 13.0/18.500000000000007 (-5.500000000000007)\n",
      "Epoch 011/100 | Loss 0.0185 | Win/lose count 12.0/19.100000000000016 (-7.100000000000016)\n",
      "Epoch 012/100 | Loss 0.0145 | Win/lose count 19.0/14.799999999999969 (4.200000000000031)\n",
      "Epoch 013/100 | Loss 0.0064 | Win/lose count 12.5/17.899999999999977 (-5.399999999999977)\n",
      "Epoch 014/100 | Loss 0.0088 | Win/lose count 11.5/18.400000000000002 (-6.900000000000002)\n",
      "Epoch 015/100 | Loss 0.0171 | Win/lose count 18.0/13.099999999999973 (4.900000000000027)\n",
      "Epoch 016/100 | Loss 0.0106 | Win/lose count 13.5/19.600000000000012 (-6.100000000000012)\n",
      "Epoch 017/100 | Loss 0.0226 | Win/lose count 12.5/17.199999999999967 (-4.699999999999967)\n",
      "Epoch 018/100 | Loss 0.0071 | Win/lose count 11.0/16.499999999999975 (-5.499999999999975)\n",
      "Epoch 019/100 | Loss 0.0118 | Win/lose count 24.0/14.599999999999971 (9.400000000000029)\n",
      "Epoch 020/100 | Loss 0.0254 | Win/lose count 20.5/17.599999999999984 (2.9000000000000163)\n",
      "Epoch 021/100 | Loss 0.0105 | Win/lose count 15.5/17.79999999999998 (-2.2999999999999794)\n",
      "Epoch 022/100 | Loss 0.0209 | Win/lose count 20.0/15.199999999999973 (4.800000000000027)\n",
      "Epoch 023/100 | Loss 0.0249 | Win/lose count 16.0/19.000000000000007 (-3.000000000000007)\n",
      "Epoch 024/100 | Loss 0.0254 | Win/lose count 14.0/12.499999999999972 (1.5000000000000284)\n",
      "Epoch 025/100 | Loss 0.0093 | Win/lose count 20.0/17.69999999999998 (2.3000000000000185)\n",
      "Epoch 026/100 | Loss 0.0173 | Win/lose count 29.5/18.700000000000003 (10.799999999999997)\n",
      "Epoch 027/100 | Loss 0.0268 | Win/lose count 19.0/15.09999999999997 (3.9000000000000306)\n",
      "Epoch 028/100 | Loss 0.0103 | Win/lose count 20.5/13.099999999999977 (7.4000000000000234)\n",
      "Epoch 029/100 | Loss 0.0194 | Win/lose count 17.0/15.099999999999973 (1.900000000000027)\n",
      "Epoch 030/100 | Loss 0.0249 | Win/lose count 23.0/11.499999999999979 (11.500000000000021)\n",
      "Epoch 031/100 | Loss 0.0127 | Win/lose count 20.5/16.09999999999998 (4.40000000000002)\n",
      "Epoch 032/100 | Loss 0.0409 | Win/lose count 9.5/14.899999999999967 (-5.399999999999967)\n",
      "Epoch 033/100 | Loss 0.0181 | Win/lose count 21.5/13.199999999999974 (8.300000000000026)\n",
      "Epoch 034/100 | Loss 0.0184 | Win/lose count 16.0/14.899999999999967 (1.1000000000000334)\n",
      "Epoch 035/100 | Loss 0.0117 | Win/lose count 17.5/10.499999999999982 (7.000000000000018)\n",
      "Epoch 036/100 | Loss 0.0265 | Win/lose count 19.0/9.599999999999985 (9.400000000000015)\n",
      "Epoch 037/100 | Loss 0.0095 | Win/lose count 20.5/15.299999999999972 (5.200000000000028)\n",
      "Epoch 038/100 | Loss 0.0181 | Win/lose count 20.0/15.599999999999977 (4.4000000000000234)\n",
      "Epoch 039/100 | Loss 0.0081 | Win/lose count 18.5/21.70000000000005 (-3.200000000000049)\n",
      "Epoch 040/100 | Loss 0.0108 | Win/lose count 11.0/17.399999999999977 (-6.399999999999977)\n",
      "Epoch 041/100 | Loss 0.0124 | Win/lose count 13.0/15.89999999999996 (-2.8999999999999595)\n",
      "Epoch 042/100 | Loss 0.0172 | Win/lose count 26.5/11.19999999999998 (15.30000000000002)\n",
      "Epoch 043/100 | Loss 0.0150 | Win/lose count 19.0/12.99999999999997 (6.00000000000003)\n",
      "Epoch 044/100 | Loss 0.0159 | Win/lose count 15.0/13.79999999999997 (1.2000000000000295)\n",
      "Epoch 045/100 | Loss 0.0160 | Win/lose count 24.0/14.799999999999978 (9.200000000000022)\n",
      "Epoch 046/100 | Loss 0.0150 | Win/lose count 15.5/15.999999999999966 (-0.49999999999996625)\n",
      "Epoch 047/100 | Loss 0.0104 | Win/lose count 19.5/13.899999999999977 (5.600000000000023)\n",
      "Epoch 048/100 | Loss 0.0195 | Win/lose count 23.5/10.699999999999983 (12.800000000000017)\n",
      "Epoch 049/100 | Loss 0.0197 | Win/lose count 25.5/14.899999999999977 (10.600000000000023)\n",
      "Epoch 050/100 | Loss 0.0108 | Win/lose count 16.0/11.699999999999978 (4.300000000000022)\n",
      "Epoch 051/100 | Loss 0.0136 | Win/lose count 18.5/16.89999999999997 (1.6000000000000298)\n",
      "Epoch 052/100 | Loss 0.0229 | Win/lose count 19.0/20.400000000000052 (-1.4000000000000519)\n",
      "Epoch 053/100 | Loss 0.0226 | Win/lose count 21.5/15.699999999999976 (5.800000000000024)\n",
      "Epoch 054/100 | Loss 0.0143 | Win/lose count 16.5/18.600000000000016 (-2.1000000000000156)\n",
      "Epoch 055/100 | Loss 0.0138 | Win/lose count 28.0/10.699999999999985 (17.300000000000015)\n",
      "Epoch 056/100 | Loss 0.0141 | Win/lose count 25.5/13.29999999999998 (12.20000000000002)\n",
      "Epoch 057/100 | Loss 0.0126 | Win/lose count 22.0/12.699999999999978 (9.300000000000022)\n",
      "Epoch 058/100 | Loss 0.0340 | Win/lose count 17.0/14.79999999999997 (2.2000000000000295)\n",
      "Epoch 059/100 | Loss 0.0194 | Win/lose count 21.5/13.799999999999981 (7.700000000000019)\n",
      "Epoch 060/100 | Loss 0.0231 | Win/lose count 23.5/13.299999999999983 (10.200000000000017)\n",
      "Epoch 061/100 | Loss 0.0174 | Win/lose count 19.5/11.899999999999979 (7.600000000000021)\n",
      "Epoch 062/100 | Loss 0.0198 | Win/lose count 20.5/12.899999999999972 (7.600000000000028)\n",
      "Epoch 063/100 | Loss 0.0178 | Win/lose count 23.5/16.299999999999976 (7.200000000000024)\n",
      "Epoch 064/100 | Loss 0.0317 | Win/lose count 17.5/17.699999999999985 (-0.19999999999998508)\n",
      "Epoch 065/100 | Loss 0.0250 | Win/lose count 25.5/14.599999999999982 (10.900000000000018)\n",
      "Epoch 066/100 | Loss 0.0299 | Win/lose count 14.5/19.50000000000002 (-5.000000000000021)\n",
      "Epoch 067/100 | Loss 0.0314 | Win/lose count 20.5/14.39999999999998 (6.100000000000019)\n",
      "Epoch 068/100 | Loss 0.0160 | Win/lose count 16.0/20.300000000000033 (-4.300000000000033)\n",
      "Epoch 069/100 | Loss 0.0158 | Win/lose count 23.0/13.199999999999983 (9.800000000000017)\n",
      "Epoch 070/100 | Loss 0.0156 | Win/lose count 19.5/13.699999999999974 (5.800000000000026)\n",
      "Epoch 071/100 | Loss 0.0289 | Win/lose count 13.5/19.000000000000014 (-5.500000000000014)\n",
      "Epoch 072/100 | Loss 0.0217 | Win/lose count 20.5/19.00000000000002 (1.4999999999999787)\n",
      "Epoch 073/100 | Loss 0.0256 | Win/lose count 18.0/11.19999999999998 (6.80000000000002)\n",
      "Epoch 074/100 | Loss 0.0363 | Win/lose count 23.5/16.299999999999983 (7.200000000000017)\n",
      "Epoch 075/100 | Loss 0.0229 | Win/lose count 19.0/20.40000000000002 (-1.40000000000002)\n",
      "Epoch 076/100 | Loss 0.0320 | Win/lose count 20.0/14.299999999999976 (5.700000000000024)\n",
      "Epoch 077/100 | Loss 0.0368 | Win/lose count 13.0/20.0 (-7.0)\n",
      "Epoch 078/100 | Loss 0.0126 | Win/lose count 20.0/20.00000000000001 (-1.0658141036401503e-14)\n",
      "Epoch 079/100 | Loss 0.0266 | Win/lose count 21.5/11.799999999999986 (9.700000000000014)\n",
      "Epoch 080/100 | Loss 0.0270 | Win/lose count 23.5/11.399999999999979 (12.100000000000021)\n",
      "Epoch 081/100 | Loss 0.0314 | Win/lose count 25.0/21.0 (4.0)\n",
      "Epoch 082/100 | Loss 0.0233 | Win/lose count 21.5/13.79999999999997 (7.7000000000000295)\n",
      "Epoch 083/100 | Loss 0.0227 | Win/lose count 17.5/16.499999999999975 (1.0000000000000249)\n",
      "Epoch 084/100 | Loss 0.0176 | Win/lose count 15.0/21.30000000000001 (-6.300000000000011)\n",
      "Epoch 085/100 | Loss 0.0279 | Win/lose count 15.0/16.29999999999997 (-1.2999999999999687)\n",
      "Epoch 086/100 | Loss 0.0227 | Win/lose count 24.5/13.199999999999978 (11.300000000000022)\n",
      "Epoch 087/100 | Loss 0.0142 | Win/lose count 19.0/20.900000000000034 (-1.900000000000034)\n",
      "Epoch 088/100 | Loss 0.0185 | Win/lose count 23.5/13.399999999999983 (10.100000000000017)\n",
      "Epoch 089/100 | Loss 0.0273 | Win/lose count 29.0/14.099999999999984 (14.900000000000016)\n",
      "Epoch 090/100 | Loss 0.0316 | Win/lose count 22.0/18.699999999999992 (3.300000000000008)\n",
      "Epoch 091/100 | Loss 0.0307 | Win/lose count 17.0/16.899999999999984 (0.10000000000001563)\n",
      "Epoch 092/100 | Loss 0.0160 | Win/lose count 15.0/19.699999999999996 (-4.699999999999996)\n"
     ]
    },
    {
     "name": "stdout",
     "output_type": "stream",
     "text": [
      "Epoch 093/100 | Loss 0.0259 | Win/lose count 17.5/16.999999999999964 (0.5000000000000355)\n",
      "Epoch 094/100 | Loss 0.0540 | Win/lose count 22.5/11.099999999999977 (11.400000000000023)\n",
      "Epoch 095/100 | Loss 0.0233 | Win/lose count 19.0/14.399999999999974 (4.600000000000026)\n",
      "Epoch 096/100 | Loss 0.0282 | Win/lose count 19.5/14.499999999999972 (5.000000000000028)\n",
      "Epoch 097/100 | Loss 0.0396 | Win/lose count 16.5/15.999999999999966 (0.5000000000000338)\n",
      "Epoch 098/100 | Loss 0.0389 | Win/lose count 20.0/14.899999999999975 (5.1000000000000245)\n",
      "Epoch 099/100 | Loss 0.0418 | Win/lose count 21.5/15.29999999999998 (6.200000000000021)\n"
     ]
    },
    {
     "data": {
      "text/html": [
       "<video alt=\"test\" controls>\n",
       "                <source src=\"data:video/mp4;base64,AAAAIGZ0eXBpc29tAAACAGlzb21pc28yYXZjMW1wNDEAAAAIZnJlZQAAGPNtZGF0AAACrQYF//+p3EXpvebZSLeWLNgg2SPu73gyNjQgLSBjb3JlIDE1NyByMjkzNSA1NDVkZTJmIC0gSC4yNjQvTVBFRy00IEFWQyBjb2RlYyAtIENvcHlsZWZ0IDIwMDMtMjAxOCAtIGh0dHA6Ly93d3cudmlkZW9sYW4ub3JnL3gyNjQuaHRtbCAtIG9wdGlvbnM6IGNhYmFjPTEgcmVmPTMgZGVibG9jaz0xOjA6MCBhbmFseXNlPTB4MToweDExMSBtZT1oZXggc3VibWU9NyBwc3k9MSBwc3lfcmQ9MS4wMDowLjAwIG1peGVkX3JlZj0xIG1lX3JhbmdlPTE2IGNocm9tYV9tZT0xIHRyZWxsaXM9MSA4eDhkY3Q9MCBjcW09MCBkZWFkem9uZT0yMSwxMSBmYXN0X3Bza2lwPTEgY2hyb21hX3FwX29mZnNldD00IHRocmVhZHM9NiBsb29rYWhlYWRfdGhyZWFkcz0xIHNsaWNlZF90aHJlYWRzPTAgbnI9MCBkZWNpbWF0ZT0xIGludGVybGFjZWQ9MCBibHVyYXlfY29tcGF0PTAgY29uc3RyYWluZWRfaW50cmE9MCBiZnJhbWVzPTMgYl9weXJhbWlkPTIgYl9hZGFwdD0xIGJfYmlhcz0wIGRpcmVjdD0xIHdlaWdodGI9MSBvcGVuX2dvcD0wIHdlaWdodHA9MiBrZXlpbnQ9MjUwIGtleWludF9taW49MjUgc2NlbmVjdXQ9NDAgaW50cmFfcmVmcmVzaD0wIHJjX2xvb2thaGVhZD00MCByYz1jcmYgbWJ0cmVlPTEgY3JmPTIzLjAgcWNvbXA9MC42MCBxcG1pbj0wIHFwbWF4PTY5IHFwc3RlcD00IGlwX3JhdGlvPTEuNDAgYXE9MToxLjAwAIAAAAMsZYiEADP//vaG+BTYUyP+T7/8I/+5H7cfWfrixkIJvrVeQ9GAMl8a/5lGYaXpyc8t7R+vTNAEZz8ZS8pZp9o/ApmtrL5lb/cBMbKtQAljameJRa5AtczDmf8G6bByzXuz9EOZzQ8QlXJR+OFBDoqsCQJFC9R4sGviqiOPAJxpqJjYJidewTiRWoFYA06HUyZa5YeAQrev668USUR9p/OoSjFtF51D0bIF2FSn0AhMMSwoToNiP+p5yY+PXqvISwoss5B8TUVr++vUnayDlESjRwBtSYklV6/XpdF0Q4J8NM/nTyenz132CkoQZbnp9CTcoXhepa2gybZN8H3jzwsDk1USbBzDUZENtfumc/Ia63DmNHhQnm6TVIqMlK0gA7uedmH4A2Vn6A6wUkSxpHmxULdgjD0+OkDwZgoXvx6y9QdRCIlgtWgV0+ZKG41LEYCnm7bQ2GeRCFntiTOwQ5kdRuVdThl0yhIRs0BgEMA5sgZOBGIUojU7CnY72dJmCNRl8rmDLAql7nlza8O6QHNTJOwie+dE2ZBAms/l2F/Er5/3djxR2a5YMygVP+Mob+rdBvkEWBMlAZ0cdU0EDhxh0BtAAAG7i4ozZbIIkml549kPQg5LoeqiiT3Q1S3B9/TZF3rpjxsJtQ7o6bWl4P2aAEiqUnNmmk1Yic3kxg/lnA2N+uxo3ZN8rKju5ehZX2+BOBbjSJMphbqCqqSx/ivKSiNRXlqfMIiYw1lLY4Bp3zhiRfGYfs+x9/XfC6UaNjI/uKeBV6D+v7XKCRQJEE/A8x09ylr6BHx62NNYTmAdZvokg7M8YYpXJEkiYhNNKzI8xLNZ6w9O9yMPzkhPgsjRrZoFLiH6d2AA0Lxen4wcVkSHzBJz/uz3kdKtlBGOUmB4ijzNpcmebxeDuZDM3FQLIlnr/UAHMLHCouMIyRezOG2W3re6l6r498U04m1Oi/7DMkWKqYrk9xUm8ohUorw0EtUXN5mp0ffBmdOmNXIB3ejDkjY1wm8JJ9+qAASW7cTr/f9h2QODcWLw9WNhOj//gL8gg66pGoUdeqt30sZ7h/Dg0bnRkum94hAAEZEAAAATQZohbEN//qeEAMLIcgV7QyrbJwAAABtBmkM8IZMphDf//qeEAL77qfd5uvvrZihH6DcAAAAQAZ5iakK/AJrJ851oYXixwAAAAB1BmmVJ4Q8mUwU8M//+nhAB0fX36oR1bndcR9UR0wAAABABnoRqQr8AYgjtzrQwvHtBAAAAGEGahknhDyZTAhv//qeEAEu+OmP8Pq23TQAAAB1BmqhJ4Q8mUwURPDP//p4QAR74h/F0AfhQZqRaYQAAAA8BnsdqQr8AO2ClM2zI13cAAAAYQZrJSeEPJlMCGf/+nhABDviHnW6Bkh2cAAAAGEGa6knhDyZTAhv//qeEAEO+jmgrWZTXQQAAABhBmwtJ4Q8mUwIb//6nhABBvo5oK1mU10kAAAAZQZsuSeEPJlMCG//+p4QAP77B/hOC3QlZQAAAABJBn0xFETwr/wA0xHbnWT5OG4EAAAAOAZ9takK/ADTWIXe9SX8AAAAaQZtvSahBaJlMCG///qeEACo+6n6jjQkOUEEAAAAaQZuSSeEKUmUwIb/+p4QAGx9lYzf3MihIc9IAAAAPQZ+wRTRMK/8AFibcCXHAAAAADwGf0WpCvwAOAobsM9Wf5QAAABJBm9RJqEFomUwU8N/+p4QAAScAAAAPAZ/zakK/AA4Chuwz1Z/lAAAAEkGb9knhClJlMFLDf/6nhAABJwAAAA8BnhVqQr8ADgKG7DPVn+UAAAASQZoYSeEOiZTBRMN//qeEAAEnAAAADwGeN2pCvwAOAobsM9Wf5QAAABlBmjtJ4Q8mUwIb//6nhAAa+kT/Ujo5FtnAAAAAEUGeWUURPCv/ABYrHf9HJFYvAAAADgGeempCvwAWKx65r1i8AAAAH0GafUmoQWiZTBTw3/6nhAArGK1TH+ouCvT0wf5Nu4EAAAAPAZ6cakK/ACK7PLcNm1QbAAAAGUGanknhClJlMCG//qeEAEFQBZttn2fNVsAAAAAZQZq/SeEOiZTAh3/+qZYAM9UgzQB6S+wIEAAAAB1BmsNJ4Q8mUwId//6plgBSdLMWmaA7vpVDE+uAOQAAABBBnuFFETwv/wBiBG73AKfAAAAADwGfAHRCvwCC+aoHTtQ1hwAAAA8BnwJqQr8AzcNLu/Cto8gAAAASQZsHSahBaJlMCG///qeEAAEnAAAADEGfJUURLC//AACygQAAABABn0R0Qr8AzdlXd9Q5CHqxAAAADwGfRmpCvwCBKkbrPVnqXwAAABlBm0pJqEFsmUwIb//+p4QAo/upx/h9W20zAAAAEkGfaEUVLCv/AM3bgOhJYAsf4AAAAA4Bn4lqQr8AzZLjMHAzBwAAAB1Bm4xJqEFsmUwUTDf//qeEAJ99HPx/Ms1TW5jt3AAAAA8Bn6tqQr8AfwH9UigSqZ8AAAARQZuwSeEKUmUwIZ/+nhAABH0AAAAMQZ/ORTRML/8AALKBAAAAEAGf7XRCvwBQ7a26dl2Vj4EAAAAQAZ/vakK/AFDtrbDPVnr0gAAAABxBm/JJqEFomUwU8M/+nhABiff39Qt7muPrS/RgAAAAEAGeEWpCvwBR25DD6AkHHFkAAAAYQZoTSeEKUmUwIZ/+nhABBRDj+eC/kh3EAAAAGEGaNEnhDomUwIZ//p4QAZuQxz+HOb6zgQAAABhBmlVJ4Q8mUwIZ//6eEAGlX3GhdN91uB0AAAAYQZp2SeEPJlMCG//+p4QAbl1aOqhttt+AAAAAHEGamEnhDyZTBRE8M//+nhABsfX39Nlu0fTboIEAAAAPAZ63akK/AFrbbpRpDxO1AAAAGkGauUnhDyZTAhv//qeEAEW+RyV7z4LbrdPgAAAAGUGa2knhDyZTAhv//qeEAEO+On1HGhIcYsEAAAAbQZr7SeEPJlMCG//+p4QALH7wwOb+E4LdCX+AAAAAG0GbH0nhDyZTAhv//qeEAENW0uC3x08htLIFQQAAABFBnz1FETwv/wAo9AadOf1faQAAAA8Bn1x0Qr8AF0jGLgPzACAAAAAQAZ9eakK/ADdO1HK/tw/VwAAAABxBm0FJqEFomUwU8N/+p4QAa91apj/Vu32D9cJVAAAAEAGfYGpCvwBYrHjlfrFI3sAAAAAYQZtiSeEKUmUwIb/+p4QAbl1aOqhttt+BAAAAHEGbhEnhDomUwU0TDv/+qZYAN97S/r+vRBS58DgAAAAPAZ+jakK/AFrbbpRpDxO1AAAAGEGbqEnhDyZTAhv//qeEAG5tQd2+wfrhFwAAABBBn8ZFETwv/wBBc/ZuCBrxAAAADwGf5XRCvwA4pegMkuXPgQAAABABn+dqQr8AWuwjyYHr2+OAAAAAGUGb6kmoQWiZTBTw7/6plgA33tL+v67Rj0EAAAAPAZ4JakK/AFrbbpRpDxO1AAAAGEGaDknhClJlMCG//qeEAG5tQd2+wfrhFgAAABBBnixFNEwv/wBBc/ZuCBrwAAAADwGeS3RCvwA4pegMkuXPgQAAABABnk1qQr8AWuwjyYHr2+OBAAAAEkGaUkmoQWiZTAhv//6nhAABJwAAABBBnnBFESwv/wBBfQQVNkNeAAAADwGej3RCvwBa05QpNslVJwAAABABnpFqQr8AWuwjyYHr2+OBAAAAG0GalUmoQWyZTAhn//6eEAGx9j4Cmc63QMkNvwAAABJBnrNFFSwr/wBa2wBAKYByK8AAAAAQAZ7UakK/AFisiE3GfXpxOQAAABtBmtZJqEFsmUwIZ//+nhACi8GOfw58QOH+EVMAAAAZQZr3SeEKUmUwIb/+p4QAq+K0dH3GzBXZUQAAABdBmxhJ4Q6JlMCG//6nhACwYrR1UNttGwAAABhBmzlJ4Q8mUwId//6plgCIIsN0U4INLpgAAAAwQZtcSeEPJlMCHf/+qZYC5Ocg+IQbf/hKmJTF//hJ3V8X/+MJ6d0o9Ea7H+txm+MDAAAAE0GfekURPCv/AgtjtNH62wkYjswAAAAQAZ+bakK/AgtjroH4/hpnwQAAAB1Bm4BJqEFomUwIb//+p4QFkE/8x+WetsxQnG6ZgQAAABNBn75FESwv/wGHjWWKhX4EWVZwAAAAEAGf3XRCvwIKmtGSHknsxYAAAAAQAZ/fakK/AflrXb2r3MS2YQAAABxBm8NJqEFsmUwIb//+p4QBwQ8KdZ093m6zAmzAAAAAEUGf4UUVLCv/AVGwrBISt9m3AAAADgGeAmpCvwFRsTFcCSbcAAAAGUGaBEmoQWyZTAhv//6nhAHV3v88wf5c6esAAAARQZooSeEKUmUwIZ/+nhAABH0AAAATQZ5GRTRML/8A+ES3KZj5iIqxlQAAABABnmV0Qr8BY7R3lbKHo33BAAAAEAGeZ2pCvwFasiE3GfXpqXgAAAAYQZppSahBaJlMCG///qeEAeu+/ur3P+nhAAAAHUGai0nhClJlMFESwz/+nhAHx6C/Hw98qxHibjjhAAAAEAGeqmpCvwFspRvNMVbRvWAAAAAYQZqsSeEOiZTAhn/+nhAEcEOP54L+SGVUAAAAGEGazUnhDyZTAhv//qeEAiIQWbXOagStgQAAAB5Bmu9J4Q8mUwURPDf//qeECevwPBm0GF89tbLJ9L0AAAAQAZ8OakK/AnY8HkwJu5zugQAAABhBmxBJ4Q8mUwIb//6nhApOzH4KooSAwZUAAAAaQZszSeEPJlMCGf/+nhAJAvcaF032FJf4OekAAAASQZ9RRRE8K/8BiXVvYWC/LJGBAAAAEAGfcmpCvwGJdqOV+sUiVcAAAAAZQZt0SahBaJlMCG///qeEAoe9/nmD/H/TFgAAAB9Bm5ZJ4QpSZTBREsN//qeEAoe/rSCSRyV75St6cMj5AAAADwGftWpCvwGTJaVIoEqiDgAAABhBm7dJ4Q6JlMCG//6nhAE1+OmP8Pq22UMAAAAZQZvYSeEPJlMCHf/+qZYAmPx50s6Op5FBwQAAABhBm/xJ4Q8mUwIb//6nhAE0W073jp6w+yoAAAAQQZ4aRRE8L/8AulBs88Vh4QAAAA8Bnjl0Qr8A7Rfi4D8tEMAAAAAQAZ47akK/APgzB5LmfJKRgQAAABpBmj9JqEFomUwIb//+p4QCYdE/1In2fGqkgQAAABJBnl1FESwr/wGJduF2G+l5qDgAAAAPAZ5+akK/AYl24TggcSkgAAAAHEGaY0moQWyZTAhv//6nhAnr8KNZtXDsH+REaEEAAAAQQZ6BRRUsL/8B1p0R9gXt+AAAAA8BnqB0Qr8Bk3k3nnFoyoEAAAAQAZ6iakK/Ao/miZEr5OS2gAAAABlBmqRJqEFsmUwIb//+p4QKTsxvPgtnt4QdAAAAGUGaxUnhClJlMCHf/qmWBJ+FGVWZtJAQ+YEAAAAcQZrpSeEOiZTAhv/+p4QH70c+Sacq1wLdMLuW0QAAABFBnwdFETwv/wGyjmJcmYtJuQAAAA4BnyZ0Qr8CSF6AySvBDwAAABABnyhqQr8CSBDevfSQVhswAAAAH0GbLUmoQWiZTAhn//6eEAgviH+FtiznmWWfPttFtWEAAAAVQZ9LRREsL/8BDqBJFZdo6drFbDIwAAAAEAGfanRCvwF1TqTyvyU2UXAAAAAPAZ9sakK/AP7YjyXM+SUbAAAAGUGbbkmoQWyZTAhn//6eEATX4h51ugZIZO0AAAAXQZuPSeEKUmUwIZ/+nhAEt+Ieoffo5vUAAAAZQZuwSeEOiZTAhv/+p4QBLfjp9RxoSHBZQAAAAB1Bm9JJ4Q8mUwURPDf//qeEAMP7B/lrpbnBNE+RVAAAABABn/FqQr8AnzbkVeAJ/R+BAAAAGEGb80nhDyZTAhv//qeEAFI91OP8Pq23MwAAAB1BmhVJ4Q8mUwURPDf//qeEAE/+NPx2yVuiwT/RWAAAAA8BnjRqQr8AP4ClM2zI11sAAAAZQZo2SeEPJlMCHf/+qZYAJj8edLOjqeSBwAAAABZBmlpJ4Q8mUwId//6plgAYCpBmgEpVAAAAEkGeeEURPC//ACxZK3GqD+hE/QAAABABnpd0Qr8AO1xRcB+T/+fgAAAAEAGemWpCvwA7bPAuv7cPz8EAAAAeQZqeSahBaJlMCG///qeEALp7dPMssTI7jUvPNkdBAAAAFUGevEURLC//AG6Vd3m9+uQ32zOBYQAAAA8Bntt0Qr8AX6SzcGyXjaEAAAAPAZ7dakK/AJbs8tw2bU0DAAAAHUGawEmoQWyZTBRMO//+qZYAlBR0QLNAd30Y9b5OAAAAEAGe/2pCvwDtM8IeNDWMpoEAAAARQZrkSeEKUmUwIb/+p4QAAScAAAAMQZ8CRTRML/8AALKBAAAAEAGfIXRCvwF16Ac/rQORuqAAAAAQAZ8jakK/AOqob2K0fbqFgQAAABxBmyZJqEFomUwU8O/+qZYBI6WYtMz97vRj1eSNAAAAEAGfRWpCvwF/dU8mB69s2YEAAAAbQZtKSeEKUmUwIb/+p4QCSd1P2Elmam3RTBsxAAAAEEGfaEU0TC//ARbP3OFk+ggAAAAPAZ+HdEK/AnbSsYL+0G3AAAAAEAGfiWpCvwF/Jkmm+kg4lTEAAAAaQZuLSahBaJlMCHf//qmWATPyDM/J5j7lN6AAAAASQZuvSeEKUmUwId/+qZYAAJWAAAAADEGfzUU0TC//AACygQAAABABn+x0Qr8CkkAc/XQOLJGBAAAADwGf7mpCvwGTBY0SueXRlQAAABpBm/JJqEFomUwId//+qZYBN++rKrM2skSNgAAAABFBnhBFESwr/wGTZua4ywfZcQAAAA4BnjFqQr8BkyQzJuSS4wAAABhBmjVJqEFsmUwId//+qZYBNC460v6kiRsAAAARQZ5TRRUsK/8BiXVsEhK32XsAAAAOAZ50akK/AYl18VwJJe0AAAAbQZp5SahBbJlMCHf//qmWATfvq+yRDhDcGAqoAAAAEEGel0UVLC//AR7P2bggMXEAAAAPAZ62dEK/AZN5N55xaMqBAAAAEAGeuGpCvwGJI7c60MLw20AAAAAZQZq9SahBbJlMCHf//qmWATQToHb2l9rrjwAAABVBnttFFSwv/wEez9ymY+YiRxQ6b2gAAAAQAZ76dEK/AP7yS7qXA3aNgQAAABABnvxqQr8BkwWNe80rNlJBAAAAEkGa4UmoQWyZTAhv//6nhAABJwAAABBBnx9FFSwv/wEe9BFjgJ83AAAAEAGfPnRCvwGTeTeVsoejb8EAAAAQAZ8gakK/AYl24TcZ9emoOAAAABJBmyVJqEFsmUwIZ//+nhAABH0AAAAQQZ9DRRUsL/8BHvQRY4CfNwAAABABn2J0Qr8Bk3k3lbKHo2/BAAAAEAGfZGpCvwGJduE3GfXpqDkAAAAaQZtpS6hCEFskRggoB/IB/YeAIV/+OEAAEXEAAAAlQZ+HRRUsL/8CAdzqS9szCrmA58wF1pa2N/jtsmq5ZsgfnHmdgQAAABABn6Z0Qr8BiQFM8r8lNlBwAAAAJAGfqGpCvwKvY+1BxN2qw0km5aqGxFwikORxrZvz/q+CJMVAwAAAC6htb292AAAAbG12aGQAAAAAAAAAAAAAAAAAAAPoAAAfkAABAAABAAAAAAAAAAAAAAAAAQAAAAAAAAAAAAAAAAAAAAEAAAAAAAAAAAAAAAAAAEAAAAAAAAAAAAAAAAAAAAAAAAAAAAAAAAAAAAAAAAACAAAK0nRyYWsAAABcdGtoZAAAAAMAAAAAAAAAAAAAAAEAAAAAAAAfkAAAAAAAAAAAAAAAAAAAAAAAAQAAAAAAAAAAAAAAAAAAAAEAAAAAAAAAAAAAAAAAAEAAAAABEAAAARAAAAAAACRlZHRzAAAAHGVsc3QAAAAAAAAAAQAAH5AAAAQAAAEAAAAACkptZGlhAAAAIG1kaGQAAAAAAAAAAAAAAAAAADIAAAGUAFXEAAAAAAAtaGRscgAAAAAAAAAAdmlkZQAAAAAAAAAAAAAAAFZpZGVvSGFuZGxlcgAAAAn1bWluZgAAABR2bWhkAAAAAQAAAAAAAAAAAAAAJGRpbmYAAAAcZHJlZgAAAAAAAAABAAAADHVybCAAAAABAAAJtXN0YmwAAACVc3RzZAAAAAAAAAABAAAAhWF2YzEAAAAAAAAAAQAAAAAAAAAAAAAAAAAAAAABEAEQAEgAAABIAAAAAAAAAAEAAAAAAAAAAAAAAAAAAAAAAAAAAAAAAAAAAAAAAAAAAAAY//8AAAAvYXZjQwH0AA3/4QAXZ/QADZGbKCIR0IAAAAMAgAAAGQeKFMsBAAVo6+PESAAAABhzdHRzAAAAAAAAAAEAAADKAAACAAAAABRzdHNzAAAAAAAAAAEAAAABAAAFgGN0dHMAAAAAAAAArgAAAAIAAAQAAAAAAQAABgAAAAABAAACAAAAAAEAAAYAAAAAAQAAAgAAAAABAAAEAAAAAAEAAAYAAAAAAQAAAgAAAAADAAAEAAAAAAEAAAgAAAAAAgAAAgAAAAABAAAEAAAAAAEAAAgAAAAAAgAAAgAAAAABAAAGAAAAAAEAAAIAAAAAAQAABgAAAAABAAACAAAAAAEAAAYAAAAAAQAAAgAAAAABAAAIAAAAAAIAAAIAAAAAAQAABgAAAAABAAACAAAAAAIAAAQAAAAAAQAACgAAAAABAAAEAAAAAAEAAAAAAAAAAQAAAgAAAAABAAAKAAAAAAEAAAQAAAAAAQAAAAAAAAABAAACAAAAAAEAAAgAAAAAAgAAAgAAAAABAAAGAAAAAAEAAAIAAAAAAQAACgAAAAABAAAEAAAAAAEAAAAAAAAAAQAAAgAAAAABAAAGAAAAAAEAAAIAAAAABAAABAAAAAABAAAGAAAAAAEAAAIAAAAAAwAABAAAAAABAAAKAAAAAAEAAAQAAAAAAQAAAAAAAAABAAACAAAAAAEAAAYAAAAAAQAAAgAAAAABAAAEAAAAAAEAAAYAAAAAAQAAAgAAAAABAAAKAAAAAAEAAAQAAAAAAQAAAAAAAAABAAACAAAAAAEAAAYAAAAAAQAAAgAAAAABAAAKAAAAAAEAAAQAAAAAAQAAAAAAAAABAAACAAAAAAEAAAoAAAAAAQAABAAAAAABAAAAAAAAAAEAAAIAAAAAAQAACAAAAAACAAACAAAAAAQAAAQAAAAAAQAACAAAAAACAAACAAAAAAEAAAoAAAAAAQAABAAAAAABAAAAAAAAAAEAAAIAAAAAAQAACAAAAAACAAACAAAAAAEAAAQAAAAAAQAACgAAAAABAAAEAAAAAAEAAAAAAAAAAQAAAgAAAAABAAAEAAAAAAEAAAYAAAAAAQAAAgAAAAACAAAEAAAAAAEAAAYAAAAAAQAAAgAAAAABAAAEAAAAAAEAAAgAAAAAAgAAAgAAAAABAAAEAAAAAAEAAAYAAAAAAQAAAgAAAAACAAAEAAAAAAEAAAoAAAAAAQAABAAAAAABAAAAAAAAAAEAAAIAAAAAAQAACAAAAAACAAACAAAAAAEAAAoAAAAAAQAABAAAAAABAAAAAAAAAAEAAAIAAAAAAgAABAAAAAABAAAKAAAAAAEAAAQAAAAAAQAAAAAAAAABAAACAAAAAAEAAAoAAAAAAQAABAAAAAABAAAAAAAAAAEAAAIAAAAAAwAABAAAAAABAAAGAAAAAAEAAAIAAAAAAQAABAAAAAABAAAGAAAAAAEAAAIAAAAAAQAABAAAAAABAAAKAAAAAAEAAAQAAAAAAQAAAAAAAAABAAACAAAAAAEAAAoAAAAAAQAABAAAAAABAAAAAAAAAAEAAAIAAAAAAQAABgAAAAABAAACAAAAAAEAAAoAAAAAAQAABAAAAAABAAAAAAAAAAEAAAIAAAAAAQAABgAAAAABAAACAAAAAAEAAAoAAAAAAQAABAAAAAABAAAAAAAAAAEAAAIAAAAAAQAABAAAAAABAAAKAAAAAAEAAAQAAAAAAQAAAAAAAAABAAACAAAAAAEAAAgAAAAAAgAAAgAAAAABAAAIAAAAAAIAAAIAAAAAAQAACgAAAAABAAAEAAAAAAEAAAAAAAAAAQAAAgAAAAABAAAKAAAAAAEAAAQAAAAAAQAAAAAAAAABAAACAAAAAAEAAAoAAAAAAQAABAAAAAABAAAAAAAAAAEAAAIAAAAAAQAACgAAAAABAAAEAAAAAAEAAAAAAAAAAQAAAgAAAAABAAAKAAAAAAEAAAQAAAAAAQAAAAAAAAABAAACAAAAABxzdHNjAAAAAAAAAAEAAAABAAAAygAAAAEAAAM8c3RzegAAAAAAAAAAAAAAygAABeEAAAAXAAAAHwAAABQAAAAhAAAAFAAAABwAAAAhAAAAEwAAABwAAAAcAAAAHAAAAB0AAAAWAAAAEgAAAB4AAAAeAAAAEwAAABMAAAAWAAAAEwAAABYAAAATAAAAFgAAABMAAAAdAAAAFQAAABIAAAAjAAAAEwAAAB0AAAAdAAAAIQAAABQAAAATAAAAEwAAABYAAAAQAAAAFAAAABMAAAAdAAAAFgAAABIAAAAhAAAAEwAAABUAAAAQAAAAFAAAABQAAAAgAAAAFAAAABwAAAAcAAAAHAAAABwAAAAgAAAAEwAAAB4AAAAdAAAAHwAAAB8AAAAVAAAAEwAAABQAAAAgAAAAFAAAABwAAAAgAAAAEwAAABwAAAAUAAAAEwAAABQAAAAdAAAAEwAAABwAAAAUAAAAEwAAABQAAAAWAAAAFAAAABMAAAAUAAAAHwAAABYAAAAUAAAAHwAAAB0AAAAbAAAAHAAAADQAAAAXAAAAFAAAACEAAAAXAAAAFAAAABQAAAAgAAAAFQAAABIAAAAdAAAAFQAAABcAAAAUAAAAFAAAABwAAAAhAAAAFAAAABwAAAAcAAAAIgAAABQAAAAcAAAAHgAAABYAAAAUAAAAHQAAACMAAAATAAAAHAAAAB0AAAAcAAAAFAAAABMAAAAUAAAAHgAAABYAAAATAAAAIAAAABQAAAATAAAAFAAAAB0AAAAdAAAAIAAAABUAAAASAAAAFAAAACMAAAAZAAAAFAAAABMAAAAdAAAAGwAAAB0AAAAhAAAAFAAAABwAAAAhAAAAEwAAAB0AAAAaAAAAFgAAABQAAAAUAAAAIgAAABkAAAATAAAAEwAAACEAAAAUAAAAFQAAABAAAAAUAAAAFAAAACAAAAAUAAAAHwAAABQAAAATAAAAFAAAAB4AAAAWAAAAEAAAABQAAAATAAAAHgAAABUAAAASAAAAHAAAABUAAAASAAAAHwAAABQAAAATAAAAFAAAAB0AAAAZAAAAFAAAABQAAAAWAAAAFAAAABQAAAAUAAAAFgAAABQAAAAUAAAAFAAAAB4AAAApAAAAFAAAACgAAAAUc3RjbwAAAAAAAAABAAAAMAAAAGJ1ZHRhAAAAWm1ldGEAAAAAAAAAIWhkbHIAAAAAAAAAAG1kaXJhcHBsAAAAAAAAAAAAAAAALWlsc3QAAAAlqXRvbwAAAB1kYXRhAAAAAQAAAABMYXZmNTguMjAuMTAw\" type=\"video/mp4\" />\n",
       "             </video>"
      ],
      "text/plain": [
       "<IPython.core.display.HTML object>"
      ]
     },
     "execution_count": 253,
     "metadata": {},
     "output_type": "execute_result"
    }
   ],
   "source": [
    "# Training\n",
    "env = EnvironmentExploring(grid_size=size, max_time=T, temperature=0.3)\n",
    "agent = DQN_CNN(size, lr=.1, epsilon = 0.1, memory_size=2000, batch_size = 32,n_state=3)\n",
    "train_explore(agent, env, epochs_train, prefix='videos/cnn_train_explore')\n",
    "HTML(display_videos('videos/cnn_train_explore10.mp4'))"
   ]
  },
  {
   "cell_type": "code",
   "execution_count": 254,
   "metadata": {},
   "outputs": [
    {
     "name": "stdout",
     "output_type": "stream",
     "text": [
      "Win/lose count 10.0/3.0. Average score (7.0)\n",
      "Win/lose count 14.0/9.0. Average score (6.0)\n",
      "Win/lose count 16.5/5.0. Average score (7.833333333333333)\n",
      "Win/lose count 24.5/10.0. Average score (9.5)\n",
      "Win/lose count 21.0/4.0. Average score (11.0)\n",
      "Win/lose count 15.5/6.0. Average score (10.75)\n",
      "Win/lose count 12.5/8.0. Average score (9.857142857142858)\n",
      "Win/lose count 23.0/4.0. Average score (11.0)\n",
      "Win/lose count 19.0/5.0. Average score (11.333333333333334)\n",
      "Win/lose count 22.5/4.0. Average score (12.05)\n",
      "Win/lose count 10.5/8.0. Average score (11.181818181818182)\n",
      "Final score: 11.181818181818182\n"
     ]
    },
    {
     "data": {
      "text/html": [
       "<video alt=\"test\" controls>\n",
       "                <source src=\"data:video/mp4;base64,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\" type=\"video/mp4\" />\n",
       "             </video>"
      ],
      "text/plain": [
       "<IPython.core.display.HTML object>"
      ]
     },
     "execution_count": 254,
     "metadata": {},
     "output_type": "execute_result"
    }
   ],
   "source": [
    "# Evaluation\n",
    "test(agent,env,epochs_test,prefix='videos/cnn_test_explore')\n",
    "HTML(display_videos('videos/cnn_test_explore10.mp4'))"
   ]
  },
  {
   "cell_type": "markdown",
   "metadata": {},
   "source": [
    "**This new environment successfully incentivizes the agent to explore more the board, which significantly increases the performances of the agent.**"
   ]
  }
 ],
 "metadata": {
  "kernelspec": {
   "display_name": "DLenv",
   "language": "python",
   "name": "dlenv"
  },
  "language_info": {
   "codemirror_mode": {
    "name": "ipython",
    "version": 3
   },
   "file_extension": ".py",
   "mimetype": "text/x-python",
   "name": "python",
   "nbconvert_exporter": "python",
   "pygments_lexer": "ipython3",
   "version": "3.6.5"
  }
 },
 "nbformat": 4,
 "nbformat_minor": 2
}
