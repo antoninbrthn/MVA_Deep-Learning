{
 "cells": [
  {
   "cell_type": "markdown",
   "metadata": {},
   "source": [
    "# Deep Learning for NLP - Project"
   ]
  },
  {
   "cell_type": "markdown",
   "metadata": {},
   "source": [
    "RULES:\n",
    "\n",
    "* Do not create any additional cell\n",
    "\n",
    "* Fill in the blanks\n",
    "\n",
    "* All cells should be runnable (modulo trivial compatibility bugs that we'd fix)\n",
    "\n",
    "* 4 / 20 points will be allocated to the clarity of your code\n",
    "\n",
    "* Efficient code will have a bonus\n",
    "\n",
    "DELIVERABLE:\n",
    "\n",
    "* this notebook\n",
    "* the predictions of the SST test set\n",
    "\n",
    "DO NOT INCLUDE THE DATASETS IN THE DELIVERABLE.."
   ]
  },
  {
   "cell_type": "code",
   "execution_count": 35,
   "metadata": {},
   "outputs": [],
   "source": [
    "import io\n",
    "import os\n",
    "import numpy as np\n",
    "import scipy\n",
    "from math import *\n",
    "from utils import *\n",
    "from tqdm import tqdm\n",
    "from scipy.linalg import svd\n",
    "from sklearn import linear_model\n",
    "\n",
    "import matplotlib.pyplot as plt\n",
    "import matplotlib\n",
    "matplotlib.rcParams.update({'font.size': 16})"
   ]
  },
  {
   "cell_type": "code",
   "execution_count": 5,
   "metadata": {},
   "outputs": [],
   "source": [
    "PATH_TO_DATA = os.getcwd() + \"/data/\""
   ]
  },
  {
   "cell_type": "markdown",
   "metadata": {},
   "source": [
    "# 1) Monolingual (English) word embeddings "
   ]
  },
  {
   "cell_type": "code",
   "execution_count": 7,
   "metadata": {},
   "outputs": [],
   "source": [
    "class Word2vec():\n",
    "    def __init__(self, fname, nmax=100000):\n",
    "        self.load_wordvec(fname, nmax)\n",
    "        self.word2id = {k: i for i, k in enumerate(self.word2vec.keys())}\n",
    "        #dict.fromkeys(self.word2vec.keys(), np.arange(1, len(self.word2vec.keys())))\n",
    "        self.id2word = {v: k for k, v in self.word2id.items()}\n",
    "        self.embeddings = np.array(list(self.word2vec.values()))\n",
    "        \n",
    "    def load_wordvec(self, fname, nmax):\n",
    "        self.word2vec = {}\n",
    "        with io.open(fname, encoding='utf-8') as f:\n",
    "            next(f)\n",
    "            for i, line in enumerate(f):\n",
    "                word, vec = line.split(' ', 1)\n",
    "                self.word2vec[word] = np.fromstring(vec, sep=' ')\n",
    "                if i == (nmax - 1):\n",
    "                    break\n",
    "        print('Loaded %s pretrained word vectors' % (len(self.word2vec)))\n",
    "\n",
    "    def most_similar(self, w, K=5):\n",
    "        # K most similar words: self.score  -  np.argsort \n",
    "        scores = [self.score(w, k) for k in self.word2vec.keys()]\n",
    "        return list(reversed([self.id2word[i] for i in np.argsort(scores)[-(K+1):-1]]))\n",
    "\n",
    "    def score(self, w1, w2):\n",
    "        v1, v2 = self.word2vec[w1], self.word2vec[w2]\n",
    "        # cosine similarity: np.dot  -  np.linalg.norm\n",
    "        return v1.dot(v2)/(np.linalg.norm(v1)*np.linalg.norm(v2))\n"
   ]
  },
  {
   "cell_type": "code",
   "execution_count": 8,
   "metadata": {
    "scrolled": true
   },
   "outputs": [
    {
     "name": "stdout",
     "output_type": "stream",
     "text": [
      "Loaded 100000 pretrained word vectors\n",
      "cat dog 0.671683666279249\n",
      "dog pet 0.6842064029669219\n",
      "dogs cats 0.7074389328052404\n",
      "paris france 0.7775108541288563\n",
      "germany berlin 0.7420295235998394\n",
      "['cats', 'kitty', 'kitten', 'feline', 'kitties']\n",
      "['dogs', 'puppy', 'Dog', 'doggie', 'canine']\n",
      "['dog', 'pooches', 'Dogs', 'doggies', 'canines']\n",
      "['france', 'Paris', 'london', 'berlin', 'tokyo']\n",
      "['austria', 'europe', 'german', 'berlin', 'poland']\n"
     ]
    }
   ],
   "source": [
    "w2v = Word2vec(os.path.join(PATH_TO_DATA, 'crawl-300d-200k.vec'), nmax=100000)\n",
    "\n",
    "# You will be evaluated on the output of the following:\n",
    "for w1, w2 in zip(('cat', 'dog', 'dogs', 'paris', 'germany'), ('dog', 'pet', 'cats', 'france', 'berlin')):\n",
    "    print(w1, w2, w2v.score(w1, w2))\n",
    "for w1 in ['cat', 'dog', 'dogs', 'paris', 'germany']:\n",
    "    print(w2v.most_similar(w1))"
   ]
  },
  {
   "cell_type": "code",
   "execution_count": 9,
   "metadata": {},
   "outputs": [],
   "source": [
    "class BoV():\n",
    "    def __init__(self, w2v):\n",
    "        self.w2v = w2v\n",
    "    \n",
    "    def encode(self, sentences, idf=False):\n",
    "        # takes a list of sentences, outputs a numpy array of sentence embeddings\n",
    "        sentemb = []\n",
    "        for sent in sentences:\n",
    "            embeddings = np.array([w2v.word2vec[s] for s in sent.split(' ') if (s in self.w2v.word2vec.keys())])\n",
    "            if idf is False:\n",
    "                # mean of word vectors\n",
    "                sentemb.append(np.mean(embeddings, axis=0))\n",
    "            else:\n",
    "                # idf-weighted mean of word vectors\n",
    "                weights = [idf[w] for w in sent.split(' ') if (w in self.w2v.word2vec.keys())]\n",
    "                sentemb.append(np.average(embeddings, axis=0, weights = weights))\n",
    "                #assert False, 'TODO: fill in the blank'\n",
    "        return np.vstack(sentemb)\n",
    "\n",
    "    def most_similar(self, s, sentences, idf=False, K=5):\n",
    "        # get most similar sentences and **print** them\n",
    "        keys = self.encode(sentences, idf)\n",
    "        query = self.encode([s], idf).reshape(300)\n",
    "        scores = np.argsort([self.score(k, query, emb=True) for k in keys])\n",
    "        top_sent_index = scores[-(K+1):-1]\n",
    "        top_sent = [sentences[i] for i in top_sent_index]\n",
    "        print(\"Top {} most similar sentences to '{}' :\".format(K, s))\n",
    "        for sent in reversed(top_sent):\n",
    "            print(\"- \", sent) \n",
    "    \n",
    "    def score(self, s1, s2, idf=False, emb = False):\n",
    "        # cosine similarity: use   np.dot  and  np.linalg.norm\n",
    "        if emb:\n",
    "            return s1.dot(s2)/(np.linalg.norm(s1)*np.linalg.norm(s2))\n",
    "        else:\n",
    "            embeds = self.encode([s1, s2], idf = idf)\n",
    "            v1, v2 = embeds[0], embeds[1]\n",
    "            return v1.dot(v2)/(np.linalg.norm(v1)*np.linalg.norm(v2))\n",
    "    \n",
    "    def build_idf(self, sentences):\n",
    "        # build the idf dictionary: associate each word to its idf value\n",
    "        D = len(sentences)\n",
    "        idf = {}\n",
    "        \n",
    "        for sent in sentences:\n",
    "            for w in set(sent.split(' ')):\n",
    "                idf[w] = idf.get(w, 0) + 1\n",
    "        for word in idf.keys():\n",
    "            idf[word] = max(1, np.log10(len(sentences) / (idf[word])))\n",
    "\n",
    "        return idf"
   ]
  },
  {
   "cell_type": "code",
   "execution_count": 10,
   "metadata": {
    "scrolled": true
   },
   "outputs": [
    {
     "name": "stdout",
     "output_type": "stream",
     "text": [
      "Loaded 100000 pretrained word vectors\n",
      "Top 5 most similar sentences to '1 smiling african american boy . ' :\n",
      "-  an african american man smiling . \n",
      "-  a little african american boy and girl looking up . \n",
      "-  an afican american woman standing behind two small african american children . \n",
      "-  an african american man is sitting . \n",
      "-  a girl in black hat holding an african american baby . \n",
      "0.5726258859719605\n",
      "Top 5 most similar sentences to '1 smiling african american boy . ' :\n",
      "-  an african american man smiling . \n",
      "-  an african american man is sitting . \n",
      "-  a little african american boy and girl looking up . \n",
      "-  an afican american woman standing behind two small african american children . \n",
      "-  a girl in black hat holding an african american baby . \n",
      "0.47514508753687823\n"
     ]
    }
   ],
   "source": [
    "w2v = Word2vec(os.path.join(PATH_TO_DATA, 'crawl-300d-200k.vec'), nmax=100000)\n",
    "s2v = BoV(w2v)\n",
    "\n",
    "# Load sentences in \"PATH_TO_DATA/sentences.txt\"\n",
    "sentences = []\n",
    "with open(os.path.join(PATH_TO_DATA, \"sentences.txt\"), \"r\") as f:\n",
    "    sentences = f.read().splitlines()\n",
    "\n",
    "# Build idf scores for each word\n",
    "idf = s2v.build_idf(sentences)\n",
    "\n",
    "# You will be evaluated on the output of the following:\n",
    "s2v.most_similar('' if not sentences else sentences[10], sentences)  # BoV-mean\n",
    "#s2v.score(sentences[7], sentences[13])\n",
    "print(s2v.score('' if not sentences else sentences[7], '' if not sentences else sentences[13]))\n",
    "\n",
    "idf = s2v.build_idf(sentences)  \n",
    "s2v.most_similar('' if not sentences else sentences[10], sentences, idf)  # BoV-idf\n",
    "print(s2v.score('' if not sentences else sentences[7], '' if not sentences else sentences[13], idf))"
   ]
  },
  {
   "cell_type": "markdown",
   "metadata": {},
   "source": [
    "# 2) Multilingual (English-French) word embeddings"
   ]
  },
  {
   "cell_type": "markdown",
   "metadata": {},
   "source": [
    "Let's consider a bilingual dictionary of size V_a (e.g French-English).\n",
    "\n",
    "Let's define **X** and **Y** the **French** and **English** matrices.\n",
    "\n",
    "They contain the embeddings associated to the words in the bilingual dictionary.\n",
    "\n",
    "We want to find a **mapping W** that will project the source word space (e.g French) to the target word space (e.g English).\n",
    "\n",
    "Procrustes : **W\\* = argmin || W.X - Y ||  s.t  W^T.W = Id**\n",
    "has a closed form solution:\n",
    "**W = U.V^T  where  U.Sig.V^T = SVD(Y.X^T)**\n",
    "\n",
    "In what follows, you are asked to: "
   ]
  },
  {
   "cell_type": "code",
   "execution_count": 54,
   "metadata": {},
   "outputs": [],
   "source": [
    "# 1 - Download and load 50k first vectors of\n",
    "#     https://s3-us-west-1.amazonaws.com/fasttext-vectors/wiki.en.vec\n",
    "#     https://s3-us-west-1.amazonaws.com/fasttext-vectors/wiki.fr.vec\n",
    "w2v_wiki_fr = Word2vec(os.path.join(PATH_TO_DATA, \"wiki.fr.vec\"), nmax=50000)\n",
    "w2v_wiki_en = Word2vec(os.path.join(PATH_TO_DATA, \"wiki.en.vec\"), nmax=50000)\n",
    "\n",
    "wiki_fr = w2v_wiki_fr.word2vec\n",
    "wiki_en = w2v_wiki_en.word2vec"
   ]
  },
  {
   "cell_type": "code",
   "execution_count": 78,
   "metadata": {},
   "outputs": [],
   "source": [
    "# 2 - Get words that appear in both vocabs (= identical character strings)\n",
    "#     Use it to create the matrix X and Y (of aligned embeddings for these words)\n",
    "\n",
    "set_en, set_fr = set(wiki_en.keys()), set(wiki_fr.keys())\n",
    "\n",
    "common_words = set_en.intersection(set_fr)\n",
    "\n",
    "X, Y = [], []\n",
    "\n",
    "for w in common_words:\n",
    "    X.append(wiki_fr[w])\n",
    "    Y.append(wiki_en[w])\n",
    "X = np.array(X).T\n",
    "Y = np.array(Y).T"
   ]
  },
  {
   "cell_type": "code",
   "execution_count": 126,
   "metadata": {},
   "outputs": [],
   "source": [
    "# 3 - Solve the Procrustes using the scipy package and: scipy.linalg.svd() and get the optimal W\n",
    "#     Now W*French_vector is in the same space as English_vector\n",
    "\n",
    "U, sigma, V = svd(Y.dot(X.T))\n",
    "W = U.dot(V)"
   ]
  },
  {
   "cell_type": "code",
   "execution_count": 131,
   "metadata": {},
   "outputs": [
    {
     "name": "stdout",
     "output_type": "stream",
     "text": [
      "English nearest neighbors of 'chat': poodle, feline, hamster, rabbit, cat\n",
      "English nearest neighbors of 'chien': spaniel, dogs, terrier, poodle, dog\n",
      "English nearest neighbors of 'partir': reconstituted, beginning, until, onward, onwards\n",
      "English nearest neighbors of 'profond': shallow, shallower, deepest, deeper, deep\n",
      "English nearest neighbors of 'apprentissage': skills, learners, learning, learner, apprenticeship\n",
      "French nearest neighbors of 'cat': chien, chats, dog, chat, cat\n",
      "French nearest neighbors of 'dog': chienne, chiens, hound, chien, dog\n",
      "French nearest neighbors of 'leave': revienne, quitte, give, this, leave\n",
      "French nearest neighbors of 'deep': profondes, profonde, profondeurs, profond, deep\n",
      "French nearest neighbors of 'learning': educational, apprentissages, apprentissage, education, learning\n"
     ]
    }
   ],
   "source": [
    "# 4 - After alignment with W, give examples of English nearest neighbors of some French words (and vice versa)\n",
    "#     You will be evaluated on that part and the code above\n",
    "\n",
    "french_words = ['chat', 'chien', 'partir', 'profond', 'apprentissage']\n",
    "english_words = ['cat', 'dog', 'leave', 'deep', 'learning']\n",
    "\n",
    "def top_k_closest(v1, emb_dict, k = 5):\n",
    "    top = []\n",
    "    for w in emb_dict.keys():\n",
    "        v2 = emb_dict[w]\n",
    "        top.append(v1.dot(v2)/(np.linalg.norm(v1)*np.linalg.norm(v2)))\n",
    "    index_top = np.argsort(top)[-k:]\n",
    "    return [list(emb_dict.keys())[i] for i in index_top]\n",
    "\n",
    "for w_fr in french_words:\n",
    "    nn = top_k_closest(W.dot(wiki_fr[w_fr]), wiki_en, k=5)\n",
    "    print(\"English nearest neighbors of '{}': {}\".format(w_fr, ', '.join(nn)))\n",
    "print(\"==========================\")    \n",
    "for w_en in english_words:\n",
    "    nn = top_k_closest(W.T.dot(wiki_en[w_en]), wiki_fr, k=5)\n",
    "    print(\"French nearest neighbors of '{}': {}\".format(w_en, ', '.join(nn)))"
   ]
  },
  {
   "cell_type": "markdown",
   "metadata": {},
   "source": [
    "If you want to dive deeper on this subject: https://github.com/facebookresearch/MUSE"
   ]
  },
  {
   "cell_type": "markdown",
   "metadata": {},
   "source": [
    "# 3) Sentence classification with BoV and scikit-learn"
   ]
  },
  {
   "cell_type": "code",
   "execution_count": 12,
   "metadata": {},
   "outputs": [],
   "source": [
    "# 1 - Load train/dev/test of Stanford Sentiment TreeBank (SST)\n",
    "#     (https://nlp.stanford.edu/~socherr/EMNLP2013_RNTN.pdf)\n",
    "\n",
    "# Load train data\n",
    "with open(os.path.join(PATH_TO_DATA, \"SST/stsa.fine.train\"), \"r\") as f:\n",
    "    train_data = np.array(f.read().splitlines())   \n",
    "X_train, Y_train = [], []\n",
    "for t in train_data:\n",
    "    X_train.append(t[2:])\n",
    "    Y_train.append(int(t[0]))\n",
    "del train_data\n",
    "    \n",
    "# Load test data\n",
    "with open(os.path.join(PATH_TO_DATA, \"SST/stsa.fine.test.X\"), \"r\") as f:\n",
    "    X_test = np.array(f.read().splitlines())\n",
    "\n",
    "# Load validation data\n",
    "with open(os.path.join(PATH_TO_DATA, \"SST/stsa.fine.dev\"), \"r\") as f:\n",
    "    dev_data = np.array(f.read().splitlines())\n",
    "X_dev, Y_dev = [], []\n",
    "for t in dev_data:\n",
    "    X_dev.append(t[2:])\n",
    "    Y_dev.append(int(t[0]))\n",
    "del dev_data"
   ]
  },
  {
   "cell_type": "code",
   "execution_count": 13,
   "metadata": {
    "scrolled": false
   },
   "outputs": [
    {
     "name": "stdout",
     "output_type": "stream",
     "text": [
      "Loaded 200000 pretrained word vectors\n"
     ]
    }
   ],
   "source": [
    "# 2 - Encode sentences with the BoV model above\n",
    "\n",
    "# Here we encode the sentence using the simple average of the BoV embeddings, which yields better results than the weighted-average one.\n",
    "# The results in the case of a weighted average can be found in the appendix of this notebook\n",
    "w2v = Word2vec(os.path.join(PATH_TO_DATA, 'crawl-300d-200k.vec'), nmax=200000)\n",
    "s2v = BoV(w2v)\n",
    "\n",
    "# Compute the weights by using the full dataset and the sentences of section 1\n",
    "idf = s2v.build_idf(sentences = sentences + X_train + X_dev + list(X_test))\n",
    "\n",
    "X_train_emb = s2v.encode(X_train)\n",
    "X_dev_emb = s2v.encode(X_dev)\n",
    "X_test_emb = s2v.encode(X_test)"
   ]
  },
  {
   "cell_type": "code",
   "execution_count": 14,
   "metadata": {
    "scrolled": true
   },
   "outputs": [
    {
     "name": "stderr",
     "output_type": "stream",
     "text": [
      "100%|██████████| 20/20 [00:49<00:00,  4.26s/it]\n"
     ]
    },
    {
     "name": "stdout",
     "output_type": "stream",
     "text": [
      "Best regularization parameter on validation set : 3.36\n",
      "Accuracy on train set:  0.511938202247191\n",
      "Accuracy on validation set:  0.44504995458673935\n"
     ]
    },
    {
     "data": {
      "image/png": "[encoded data removed]",
      "text/plain": [
       "<Figure size 432x288 with 1 Axes>"
      ]
     },
     "metadata": {
      "needs_background": "light"
     },
     "output_type": "display_data"
    }
   ],
   "source": [
    "# 3 - Learn Logistic Regression on top of sentence embeddings using scikit-learn\n",
    "#     (consider tuning the L2 regularization on the dev set)\n",
    "\n",
    "# Search for the optimal regularization strengh\n",
    "reg = np.logspace(-2, 2, 20)\n",
    "score_train = []\n",
    "score_dev = []\n",
    "for r in tqdm(reg):\n",
    "    Logreg = linear_model.LogisticRegression(penalty='l2', C=r, solver='newton-cg', multi_class='multinomial')\n",
    "    Logreg = Logreg.fit(X_train_emb, Y_train)\n",
    "    score_train.append(Logreg.score(X_train_emb, Y_train))\n",
    "    score_dev.append(Logreg.score(X_dev_emb, Y_dev))\n",
    "print(\"Best regularization parameter on validation set : {}\".format(round(reg[np.argsort(score_dev)[-1]], 2)))\n",
    "\n",
    "# Evolution of the scores with the regularization variable\n",
    "plt.figure()\n",
    "plt.title(\"Evolution of the scores with the regularization variable\")\n",
    "plt.plot(reg, score_train, label='train')\n",
    "plt.plot(reg, score_dev, label='dev')\n",
    "plt.legend()\n",
    "plt.xscale('log')\n",
    "plt.xlabel(\"Regularization variable\")\n",
    "plt.plot()\n",
    "\n",
    "# Run the model with the optimal regularization parameter\n",
    "opt_C = reg[np.argsort(score_dev)[-1]]\n",
    "Logreg = linear_model.LogisticRegression(penalty='l2', C=opt_C, solver='newton-cg', multi_class='multinomial')\n",
    "Logreg = Logreg.fit(X_train_emb, Y_train)\n",
    "\n",
    "print(\"Accuracy on train set: \", Logreg.score(X_train_emb, Y_train))\n",
    "print(\"Accuracy on validation set: \", Logreg.score(X_dev_emb, Y_dev))"
   ]
  },
  {
   "cell_type": "code",
   "execution_count": 15,
   "metadata": {},
   "outputs": [],
   "source": [
    "# 4 - Produce 2210 predictions for the test set (in the same order). One line = one prediction (=0,1,2,3,4).\n",
    "#     Attach the output file \"logreg_bov_y_test_sst.txt\" to your deliverable.\n",
    "#     You will be evaluated on the results of the test set.\n",
    "\n",
    "test_predictions = Logreg.predict(X_test_emb)\n",
    "\n",
    "with open(PATH_TO_DATA + \"export/logreg_bov_y_test_sst.txt\", \"w+\") as f:\n",
    "    for line in test_predictions:\n",
    "        f.write(str(line) + \"\\n\")   "
   ]
  },
  {
   "cell_type": "markdown",
   "metadata": {},
   "source": [
    "# Bonus"
   ]
  },
  {
   "cell_type": "code",
   "execution_count": 16,
   "metadata": {},
   "outputs": [],
   "source": [
    "# BONUS!\n",
    "# 5 - Try to improve performance with another classifier\n",
    "#     Attach the output file \"XXX_bov_y_test_sst.txt\" to your deliverable (where XXX = the name of the classifier)"
   ]
  },
  {
   "cell_type": "markdown",
   "metadata": {},
   "source": [
    "## Random Forest Classifier"
   ]
  },
  {
   "cell_type": "code",
   "execution_count": 17,
   "metadata": {},
   "outputs": [
    {
     "name": "stdout",
     "output_type": "stream",
     "text": [
      "Random forest classifier accuracy on train set:  0.5617977528089888\n",
      "Random forest classifier accuracy on validation set:  0.36239782016348776\n"
     ]
    }
   ],
   "source": [
    "# Using a Random Forest classifier\n",
    "from sklearn.ensemble import RandomForestClassifier\n",
    "\n",
    "# Parameters\n",
    "n_trees = 50\n",
    "max_depth = 6\n",
    "\n",
    "RF = RandomForestClassifier(random_state=10, n_estimators=n_trees, class_weight = \"balanced\", max_depth=max_depth, bootstrap=False)\n",
    "\n",
    "RF = RF.fit(X_train_emb, Y_train)\n",
    "\n",
    "print(\"Random forest classifier accuracy on train set: \", RF.score(X_train_emb, Y_train))\n",
    "print(\"Random forest classifier accuracy on validation set: \", RF.score(X_dev_emb, Y_dev))"
   ]
  },
  {
   "cell_type": "markdown",
   "metadata": {},
   "source": [
    "## MLP"
   ]
  },
  {
   "cell_type": "code",
   "execution_count": 18,
   "metadata": {},
   "outputs": [
    {
     "name": "stdout",
     "output_type": "stream",
     "text": [
      "MLP accuracy on train set:  0.5321863295880149\n",
      "MLP accuracy on validation set:  0.4223433242506812\n"
     ]
    }
   ],
   "source": [
    "# Using a MLP\n",
    "from sklearn.neural_network import MLPClassifier\n",
    "\n",
    "# Parameters\n",
    "r = 1e-1\n",
    "size = (12,)\n",
    "\n",
    "mlp = MLPClassifier(random_state=10, solver='lbfgs', alpha=r, hidden_layer_sizes=size)\n",
    "mlp.fit(X_train_emb, Y_train)\n",
    "\n",
    "print(\"MLP accuracy on train set: \", mlp.score(X_train_emb, Y_train))\n",
    "print(\"MLP accuracy on validation set: \", mlp.score(X_dev_emb, Y_dev))\n",
    "\n",
    "test_predictions_mlp = mlp.predict(X_test_emb)\n",
    "\n",
    "with open(PATH_TO_DATA + \"export/mlp_bov_y_test_sst.txt\", \"w+\") as f:\n",
    "    for line in test_predictions_mlp:\n",
    "        f.write(str(line) + \"\\n\")   "
   ]
  },
  {
   "cell_type": "markdown",
   "metadata": {},
   "source": [
    "# 4) Sentence classification with LSTMs in Keras"
   ]
  },
  {
   "cell_type": "markdown",
   "metadata": {},
   "source": [
    "## 4.1 - Preprocessing"
   ]
  },
  {
   "cell_type": "code",
   "execution_count": 29,
   "metadata": {},
   "outputs": [],
   "source": [
    "import keras\n",
    "from keras.layers import Embedding, Dense, InputLayer, Bidirectional, LSTM\n",
    "from keras.models import Sequential"
   ]
  },
  {
   "cell_type": "code",
   "execution_count": 20,
   "metadata": {},
   "outputs": [],
   "source": [
    "# 1 - Load train/dev/test sets of SST\n",
    "\n",
    "with open(os.path.join(PATH_TO_DATA, \"SST/stsa.fine.train\"), \"r\") as f:\n",
    "    train_data = np.array(f.read().splitlines())   \n",
    "X_train, Y_train = [], []\n",
    "for t in train_data:\n",
    "    X_train.append(t[2:])\n",
    "    Y_train.append(int(t[0]))\n",
    "del train_data\n",
    "    \n",
    "with open(os.path.join(PATH_TO_DATA, \"SST/stsa.fine.test.X\"), \"r\") as f:\n",
    "    X_test = f.read().splitlines()\n",
    "\n",
    "with open(os.path.join(PATH_TO_DATA, \"SST/stsa.fine.dev\"), \"r\") as f:\n",
    "    dev_data = np.array(f.read().splitlines())\n",
    "X_dev, Y_dev = [], []\n",
    "for t in dev_data:\n",
    "    X_dev.append(t[2:])\n",
    "    Y_dev.append(int(t[0]))\n",
    "del dev_data"
   ]
  },
  {
   "cell_type": "code",
   "execution_count": 21,
   "metadata": {},
   "outputs": [],
   "source": [
    "# 2 - Transform text to integers using keras.preprocessing.text.one_hot function\n",
    "#     https://keras.io/preprocessing/text/\n",
    "\n",
    "def flatten(l):\n",
    "    return [item for sublist in l for item in sublist.split(' ')]\n",
    "\n",
    "# Get the length of the vocabulary of the train set\n",
    "vocab_len = len(set(flatten(X_train)))\n",
    "\n",
    "X_train_oh = []\n",
    "for sent in X_train:\n",
    "    X_train_oh.append(keras.preprocessing.text.one_hot(sent, vocab_len))\n",
    "\n",
    "X_dev_oh = []\n",
    "for sent in X_dev:\n",
    "    X_dev_oh.append(keras.preprocessing.text.one_hot(sent, vocab_len))\n",
    "\n",
    "X_test_oh = []\n",
    "for sent in X_test:\n",
    "    X_test_oh.append(keras.preprocessing.text.one_hot(sent, vocab_len))"
   ]
  },
  {
   "cell_type": "markdown",
   "metadata": {},
   "source": [
    "**Padding input data**\n",
    "\n",
    "Models in Keras (and elsewhere) take batches of sentences of the same length as input. It is because Deep Learning framework have been designed to handle well Tensors, which are particularly suited for fast computation on the GPU.\n",
    "\n",
    "Since sentences have different sizes, we \"pad\" them. That is, we add dummy \"padding\" tokens so that they all have the same length.\n",
    "\n",
    "The input to a Keras model thus has this size : (batchsize, maxseqlen) where maxseqlen is the maximum length of a sentence in the batch."
   ]
  },
  {
   "cell_type": "code",
   "execution_count": 22,
   "metadata": {},
   "outputs": [],
   "source": [
    "# 3 - Pad your sequences using keras.preprocessing.sequence.pad_sequences\n",
    "#     https://keras.io/preprocessing/sequence/\n",
    "\n",
    "max_length = max([len(sent) for sent in X_train_oh+X_dev_oh+X_test_oh])\n",
    "\n",
    "X_train_work = keras.preprocessing.sequence.pad_sequences(X_train_oh, maxlen=max_length)\n",
    "Y_train_work = keras.preprocessing.utils.to_categorical(Y_train)\n",
    "\n",
    "X_dev_work = keras.preprocessing.sequence.pad_sequences(X_dev_oh, maxlen=max_length)\n",
    "Y_dev_work = keras.preprocessing.utils.to_categorical(Y_dev)\n",
    "\n",
    "X_test_work = keras.preprocessing.sequence.pad_sequences(X_test_oh, maxlen=max_length)"
   ]
  },
  {
   "cell_type": "markdown",
   "metadata": {},
   "source": [
    "## 4.2 - Design and train your model"
   ]
  },
  {
   "cell_type": "code",
   "execution_count": 30,
   "metadata": {},
   "outputs": [],
   "source": [
    "# 4 - Design your encoder + classifier using keras.layers\n",
    "#     In Keras, Torch and other deep learning framework, we create a \"container\" which is the Sequential() module.\n",
    "#     Then we add components to this contained : the lookuptable, the LSTM, the classifier etc.\n",
    "#     All of these components are contained in the Sequential() and are trained together.\n",
    "\n",
    "# Parameters\n",
    "embed_dim  = 10  # word embedding dimension\n",
    "nhid       = 8 # number of hidden units in the LSTM\n",
    "vocab_size = len(set(flatten(X_train)))  # size of the vocabulary\n",
    "n_classes  = 5\n",
    "\n",
    "model = Sequential()\n",
    "model.add(Embedding(vocab_size, embed_dim))\n",
    "model.add(LSTM(nhid, dropout=0.5, recurrent_dropout=0.5))\n",
    "model.add(Dense(n_classes, activation='sigmoid'))"
   ]
  },
  {
   "cell_type": "code",
   "execution_count": 31,
   "metadata": {},
   "outputs": [
    {
     "name": "stdout",
     "output_type": "stream",
     "text": [
      "_________________________________________________________________\n",
      "Layer (type)                 Output Shape              Param #   \n",
      "=================================================================\n",
      "embedding_1 (Embedding)      (None, None, 10)          165810    \n",
      "_________________________________________________________________\n",
      "lstm_1 (LSTM)                (None, 8)                 608       \n",
      "_________________________________________________________________\n",
      "dense_1 (Dense)              (None, 5)                 45        \n",
      "=================================================================\n",
      "Total params: 166,463\n",
      "Trainable params: 166,463\n",
      "Non-trainable params: 0\n",
      "_________________________________________________________________\n",
      "None\n"
     ]
    }
   ],
   "source": [
    "# 5 - Define your loss/optimizer/metrics\n",
    "\n",
    "loss_classif     =  'categorical_crossentropy' # find the right loss for multi-class classification\n",
    "optimizer        =  keras.optimizers.Adam(5e-3) # find the right optimizer\n",
    "metrics_classif  =  ['accuracy']\n",
    "\n",
    "# Observe how easy (but blackboxed) this is in Keras\n",
    "model.compile(loss=loss_classif,\n",
    "              optimizer=optimizer,\n",
    "              metrics=metrics_classif,\n",
    "                )\n",
    "print(model.summary())"
   ]
  },
  {
   "cell_type": "code",
   "execution_count": 32,
   "metadata": {},
   "outputs": [
    {
     "name": "stdout",
     "output_type": "stream",
     "text": [
      "Train on 8544 samples, validate on 1101 samples\n",
      "Epoch 1/5\n",
      "8544/8544 [==============================] - 15s 2ms/step - loss: 1.5706 - acc: 0.2731 - val_loss: 1.5573 - val_acc: 0.2861\n",
      "Epoch 2/5\n",
      "8544/8544 [==============================] - 14s 2ms/step - loss: 1.4497 - acc: 0.3669 - val_loss: 1.4485 - val_acc: 0.3633\n",
      "Epoch 3/5\n",
      "8544/8544 [==============================] - 14s 2ms/step - loss: 1.2558 - acc: 0.4737 - val_loss: 1.4791 - val_acc: 0.3715\n",
      "Epoch 4/5\n",
      "8544/8544 [==============================] - 14s 2ms/step - loss: 1.0941 - acc: 0.5616 - val_loss: 1.5476 - val_acc: 0.3697\n",
      "Epoch 5/5\n",
      "8544/8544 [==============================] - 14s 2ms/step - loss: 0.9781 - acc: 0.6127 - val_loss: 1.6006 - val_acc: 0.3742\n"
     ]
    }
   ],
   "source": [
    "# 6 - Train your model and find the best hyperparameters for your dev set\n",
    "#     you will be evaluated on the quality of your predictions on the test set\n",
    "\n",
    "bs = 32\n",
    "n_epochs = 5\n",
    "\n",
    "history = model.fit(X_train_work, Y_train_work, batch_size=bs, \n",
    "                    epochs=n_epochs, validation_data=(X_dev_work, Y_dev_work))"
   ]
  },
  {
   "cell_type": "code",
   "execution_count": 36,
   "metadata": {},
   "outputs": [
    {
     "data": {
      "image/png": "[encoded data removed]",
      "text/plain": [
       "<Figure size 504x360 with 1 Axes>"
      ]
     },
     "metadata": {
      "needs_background": "light"
     },
     "output_type": "display_data"
    }
   ],
   "source": [
    "plot_history(history, metric = 'acc', title='Evolution of the loss - encoder + LSTM')\n",
    "#plt.savefig(\"figures/encoder_LSTM_train_dev.png\")"
   ]
  },
  {
   "cell_type": "code",
   "execution_count": 37,
   "metadata": {
    "scrolled": true
   },
   "outputs": [
    {
     "name": "stdout",
     "output_type": "stream",
     "text": [
      "8544/8544 [==============================] - 2s 255us/step\n",
      "1101/1101 [==============================] - 0s 308us/step\n",
      "Encoder + LSTM accuracy on train set:  0.7597144194756554\n",
      "Encoder + LSTM accuracy on validation set:  0.374205268005909\n"
     ]
    }
   ],
   "source": [
    "train_acc = model.evaluate(X_train_work, Y_train_work)[1]\n",
    "dev_acc = model.evaluate(X_dev_work, Y_dev_work)[1]\n",
    "print(\"Encoder + LSTM accuracy on train set: \", train_acc)\n",
    "print(\"Encoder + LSTM accuracy on validation set: \", dev_acc)"
   ]
  },
  {
   "cell_type": "code",
   "execution_count": 38,
   "metadata": {},
   "outputs": [],
   "source": [
    "# 7 - Generate your predictions on the test set using model.predict(x_test)\n",
    "#     https://keras.io/models/model/\n",
    "#     Log your predictions in a file (one line = one integer: 0,1,2,3,4)\n",
    "#     Attach the output file \"logreg_lstm_y_test_sst.txt\" to your deliverable.\n",
    "\n",
    "test_predictions = model.predict_classes(X_test_work)\n",
    "\n",
    "with open(PATH_TO_DATA + \"export/logreg_lstm_y_test_sst.txt\", \"w+\") as f:\n",
    "    for line in test_predictions:\n",
    "        f.write(str(line) + \"\\n\")   "
   ]
  },
  {
   "cell_type": "markdown",
   "metadata": {},
   "source": [
    "## 4.3 -- innovate !"
   ]
  },
  {
   "cell_type": "code",
   "execution_count": 39,
   "metadata": {},
   "outputs": [
    {
     "name": "stdout",
     "output_type": "stream",
     "text": [
      "Loaded 200000 pretrained word vectors\n"
     ]
    }
   ],
   "source": [
    "# 8 - Open question: find a model that is better on your dev set\n",
    "#     (e.g: use a 1D ConvNet, use a better classifier, pretrain your lookup tables ..)\n",
    "#     you will get point if the results on the test set are better: be careful of not overfitting your dev set too much..\n",
    "#     Attach the output file \"XXX_XXX_y_test_sst.txt\" to your deliverable.\n",
    "\n",
    "# The idea is to use the word embeddings from word2vec, instead of learning them in the network\n",
    "w2v = Word2vec(os.path.join(PATH_TO_DATA, 'crawl-300d-200k.vec'), nmax=200000)\n",
    "\n",
    "def vectorize_data(data, w2v):\n",
    "    vec = []\n",
    "    for x in data:\n",
    "    #    X_train_w2v.append(keras.preprocessing.sequence.pad_sequences(\n",
    "    #        [w2v.word2vec[w] for w in x.split(' ') if (w in w2v.word2vec.keys())],\n",
    "    #                                                                  maxlen=max_length)\n",
    "        vec.append([w2v.word2vec[w] for w in x.split(' ') if (w in w2v.word2vec.keys())])\n",
    "    return vec\n",
    "\n",
    "def pad_embed(vec, max_length, dim=300):\n",
    "    output = vec\n",
    "    zero_embed = np.array([0]*dim)\n",
    "    for x in output:\n",
    "        x+= [zero_embed]*(max_length - len(x))\n",
    "    return np.array(output)\n",
    "\n",
    "\n",
    "max_length = max([len(sent.split(' ')) for sent in X_train+X_dev+X_test])\n",
    "\n",
    "X_train_emb = pad_embed(vectorize_data(X_train, w2v), max_length)\n",
    "Y_train_work = keras.preprocessing.utils.to_categorical(Y_train)\n",
    "\n",
    "X_dev_emb = pad_embed(vectorize_data(X_dev, w2v), max_length)\n",
    "Y_dev_work = keras.preprocessing.utils.to_categorical(Y_dev)\n",
    "\n",
    "X_test_emb = pad_embed(vectorize_data(X_test, w2v), max_length)"
   ]
  },
  {
   "cell_type": "code",
   "execution_count": 45,
   "metadata": {},
   "outputs": [
    {
     "name": "stdout",
     "output_type": "stream",
     "text": [
      "_________________________________________________________________\n",
      "Layer (type)                 Output Shape              Param #   \n",
      "=================================================================\n",
      "bidirectional_2 (Bidirection (None, 128)               186880    \n",
      "_________________________________________________________________\n",
      "dense_3 (Dense)              (None, 5)                 645       \n",
      "=================================================================\n",
      "Total params: 187,525\n",
      "Trainable params: 187,525\n",
      "Non-trainable params: 0\n",
      "_________________________________________________________________\n",
      "None\n"
     ]
    }
   ],
   "source": [
    "# Model architecture\n",
    "\n",
    "# Parameters\n",
    "embed_dim  = 300\n",
    "nhid       = 64  # number of hidden units in the LSTM\n",
    "n_classes  = 5\n",
    "\n",
    "model = Sequential()\n",
    "model.add(InputLayer((max_length, embed_dim)))\n",
    "model.add(Bidirectional(LSTM(nhid, dropout=0.5, recurrent_dropout=0.5)))\n",
    "model.add(Dense(n_classes, activation='softmax'))\n",
    "\n",
    "loss_classif     =  'categorical_crossentropy' # find the right loss for multi-class classification\n",
    "optimizer        =  keras.optimizers.Adam(1e-2) # find the right optimizer\n",
    "metrics_classif  =  ['accuracy']\n",
    "\n",
    "# We use a learning rate scheduler to decrease the learning rate every 3 epochs\n",
    "def lr_schedule(x, current_lr):\n",
    "    if x%3==0:\n",
    "        return current_lr/2\n",
    "    else:\n",
    "        return current_lr\n",
    "    \n",
    "lr_callback = keras.callbacks.LearningRateScheduler(lr_schedule, verbose=1)\n",
    "\n",
    "# We also set a model checkpoint to retreive the best optimal weights of the training phase\n",
    "cp_callback = keras.callbacks.ModelCheckpoint(\"models/optimal_weights.hdf5\", \n",
    "                                monitor='val_acc', \n",
    "                                save_best_only=True)\n",
    "\n",
    "\n",
    "model.compile(loss=loss_classif,\n",
    "              optimizer=optimizer,\n",
    "              metrics=metrics_classif)\n",
    "print(model.summary())"
   ]
  },
  {
   "cell_type": "code",
   "execution_count": 46,
   "metadata": {
    "scrolled": false
   },
   "outputs": [
    {
     "name": "stdout",
     "output_type": "stream",
     "text": [
      "Train on 8544 samples, validate on 1101 samples\n",
      "Epoch 1/9\n",
      "\n",
      "Epoch 00001: LearningRateScheduler setting learning rate to 0.004999999888241291.\n",
      "8544/8544 [==============================] - 23s 3ms/step - loss: 1.4293 - acc: 0.3612 - val_loss: 1.3100 - val_acc: 0.4214\n",
      "Epoch 2/9\n",
      "\n",
      "Epoch 00002: LearningRateScheduler setting learning rate to 0.004999999888241291.\n",
      "8544/8544 [==============================] - 19s 2ms/step - loss: 1.3046 - acc: 0.4280 - val_loss: 1.2609 - val_acc: 0.4332\n",
      "Epoch 3/9\n",
      "\n",
      "Epoch 00003: LearningRateScheduler setting learning rate to 0.004999999888241291.\n",
      "8544/8544 [==============================] - 22s 3ms/step - loss: 1.2604 - acc: 0.4431 - val_loss: 1.2471 - val_acc: 0.4578\n",
      "Epoch 4/9\n",
      "\n",
      "Epoch 00004: LearningRateScheduler setting learning rate to 0.0024999999441206455.\n",
      "8544/8544 [==============================] - 21s 2ms/step - loss: 1.2215 - acc: 0.4709 - val_loss: 1.2348 - val_acc: 0.4569\n",
      "Epoch 5/9\n",
      "\n",
      "Epoch 00005: LearningRateScheduler setting learning rate to 0.0024999999441206455.\n",
      "8544/8544 [==============================] - 21s 2ms/step - loss: 1.1968 - acc: 0.4844 - val_loss: 1.2521 - val_acc: 0.4632\n",
      "Epoch 6/9\n",
      "\n",
      "Epoch 00006: LearningRateScheduler setting learning rate to 0.0024999999441206455.\n",
      "8544/8544 [==============================] - 21s 2ms/step - loss: 1.1816 - acc: 0.4932 - val_loss: 1.2206 - val_acc: 0.4505\n",
      "Epoch 7/9\n",
      "\n",
      "Epoch 00007: LearningRateScheduler setting learning rate to 0.0012499999720603228.\n",
      "8544/8544 [==============================] - 19s 2ms/step - loss: 1.1451 - acc: 0.5089 - val_loss: 1.2283 - val_acc: 0.4587\n",
      "Epoch 8/9\n",
      "\n",
      "Epoch 00008: LearningRateScheduler setting learning rate to 0.0012499999720603228.\n",
      "8544/8544 [==============================] - 19s 2ms/step - loss: 1.1283 - acc: 0.5190 - val_loss: 1.2278 - val_acc: 0.4605\n",
      "Epoch 9/9\n",
      "\n",
      "Epoch 00009: LearningRateScheduler setting learning rate to 0.0012499999720603228.\n",
      "8544/8544 [==============================] - 19s 2ms/step - loss: 1.1179 - acc: 0.5215 - val_loss: 1.2270 - val_acc: 0.4632\n"
     ]
    }
   ],
   "source": [
    "bs = 64\n",
    "n_epochs = 9\n",
    "\n",
    "history = model.fit(X_train_emb, Y_train_work, batch_size=bs, \n",
    "                    epochs=n_epochs, validation_data=(X_dev_emb, Y_dev_work), callbacks = [lr_callback, cp_callback])"
   ]
  },
  {
   "cell_type": "code",
   "execution_count": 49,
   "metadata": {},
   "outputs": [
    {
     "data": {
      "image/png": "[encoded data removed]",
      "text/plain": [
       "<Figure size 504x360 with 1 Axes>"
      ]
     },
     "metadata": {
      "needs_background": "light"
     },
     "output_type": "display_data"
    }
   ],
   "source": [
    "plot_history(history, metric='acc', title='Evolution of the loss - word2vec + LSTM')\n",
    "#plt.savefig(\"figures/w2v_LSTM_train_dev.png\")"
   ]
  },
  {
   "cell_type": "code",
   "execution_count": 47,
   "metadata": {},
   "outputs": [
    {
     "name": "stdout",
     "output_type": "stream",
     "text": [
      "8544/8544 [==============================] - 10s 1ms/step\n",
      "1101/1101 [==============================] - 1s 1ms/step\n",
      "Encoder + LSTM accuracy on train set:  0.5396769662921348\n",
      "Encoder + LSTM accuracy on validation set:  0.46321525893679105\n"
     ]
    }
   ],
   "source": [
    "model.load_weights(\"models/optimal_weights.hdf5\")\n",
    "\n",
    "train_acc = model.evaluate(X_train_emb, Y_train_work)[1]\n",
    "dev_acc = model.evaluate(X_dev_emb, Y_dev_work)[1]\n",
    "print(\"Encoder + LSTM accuracy on train set: \", train_acc)\n",
    "print(\"Encoder + LSTM accuracy on validation set: \", dev_acc)"
   ]
  },
  {
   "cell_type": "code",
   "execution_count": 50,
   "metadata": {},
   "outputs": [],
   "source": [
    "test_predictions_w2v_lstm = model.predict_classes(X_test_emb)\n",
    "\n",
    "with open(PATH_TO_DATA + \"export/w2v_lstm_y_test_sst.txt\", \"w+\") as f:\n",
    "    for line in test_predictions_w2v_lstm:\n",
    "        f.write(str(line) + \"\\n\")   "
   ]
  },
  {
   "cell_type": "markdown",
   "metadata": {},
   "source": [
    "# -- Appendix --"
   ]
  },
  {
   "cell_type": "markdown",
   "metadata": {},
   "source": [
    "## Sentence classification with BoV "
   ]
  },
  {
   "cell_type": "markdown",
   "metadata": {},
   "source": [
    "### Classification using weigthed average"
   ]
  },
  {
   "cell_type": "code",
   "execution_count": 53,
   "metadata": {
    "scrolled": false
   },
   "outputs": [
    {
     "name": "stdout",
     "output_type": "stream",
     "text": [
      "Loaded 200000 pretrained word vectors\n"
     ]
    }
   ],
   "source": [
    "# 2 - Encode sentences with the BoV model above\n",
    "\n",
    "# Here we encode the sentence using the simple average of the BoV embeddings, which yields better results than the weighted-average one.\n",
    "# The results in the case of a weighted average can be found in the appendix of this notebook\n",
    "w2v = Word2vec(os.path.join(PATH_TO_DATA, 'crawl-300d-200k.vec'), nmax=200000)\n",
    "s2v = BoV(w2v)\n",
    "\n",
    "# Compute the weights by using the training dataset and the sentences of section 1\n",
    "idf = s2v.build_idf(sentences = sentences + X_train + X_dev + X_test)\n",
    "\n",
    "X_train_emb = s2v.encode(X_train, idf)\n",
    "X_dev_emb = s2v.encode(X_dev, idf)\n",
    "X_test_emb = s2v.encode(X_test, idf)"
   ]
  },
  {
   "cell_type": "code",
   "execution_count": 54,
   "metadata": {
    "scrolled": false
   },
   "outputs": [
    {
     "name": "stderr",
     "output_type": "stream",
     "text": [
      "100%|██████████| 20/20 [00:53<00:00,  4.43s/it]\n"
     ]
    },
    {
     "name": "stdout",
     "output_type": "stream",
     "text": [
      "Best regularization parameter on validation set : 0.07\n",
      "Accuracy on train set:  0.4675795880149813\n",
      "Accuracy on validation set:  0.43505903723887374\n"
     ]
    },
    {
     "data": {
      "image/png": "[encoded data removed]",
      "text/plain": [
       "<Figure size 432x288 with 1 Axes>"
      ]
     },
     "metadata": {
      "needs_background": "light"
     },
     "output_type": "display_data"
    }
   ],
   "source": [
    "# 3 - Learn Logistic Regression on top of sentence embeddings using scikit-learn\n",
    "#     (consider tuning the L2 regularization on the dev set)\n",
    "\n",
    "# Search for the optimal regularization strengh\n",
    "reg = np.logspace(-2, 2, 20)\n",
    "score_train = []\n",
    "score_dev = []\n",
    "for r in tqdm(reg):\n",
    "    Logreg = linear_model.LogisticRegression(penalty='l2', C=r, solver='newton-cg', multi_class='multinomial')\n",
    "    Logreg = Logreg.fit(X_train_emb, Y_train)\n",
    "    score_train.append(Logreg.score(X_train_emb, Y_train))\n",
    "    score_dev.append(Logreg.score(X_dev_emb, Y_dev))\n",
    "print(\"Best regularization parameter on validation set : {}\".format(round(reg[np.argsort(score_dev)[-1]], 2)))\n",
    "\n",
    "# Evolution of the scores with the regularization variable\n",
    "plt.figure()\n",
    "plt.title(\"Evolution of the scores with the regularization variable\")\n",
    "plt.plot(reg, score_train, label='train')\n",
    "plt.plot(reg, score_dev, label='dev')\n",
    "plt.legend()\n",
    "plt.xscale('log')\n",
    "plt.xlabel(\"Regularization variable\")\n",
    "plt.plot()\n",
    "\n",
    "# Run the model with the optimal regularization parameter\n",
    "opt_C = reg[np.argsort(score_dev)[-1]]\n",
    "Logreg = linear_model.LogisticRegression(penalty='l2', C=opt_C, solver='newton-cg', multi_class='multinomial')\n",
    "Logreg = Logreg.fit(X_train_emb, Y_train)\n",
    "\n",
    "print(\"Accuracy on train set: \", Logreg.score(X_train_emb, Y_train))\n",
    "print(\"Accuracy on validation set: \", Logreg.score(X_dev_emb, Y_dev))"
   ]
  },
  {
   "cell_type": "markdown",
   "metadata": {},
   "source": [
    "### Parameter search for MLP classifier"
   ]
  },
  {
   "cell_type": "code",
   "execution_count": 368,
   "metadata": {},
   "outputs": [
    {
     "name": "stderr",
     "output_type": "stream",
     "text": [
      "100%|██████████| 10/10 [00:38<00:00,  3.31s/it]\n"
     ]
    }
   ],
   "source": [
    "# Regularization strengh\n",
    "reg = np.logspace(-4, 2, 10)\n",
    "score_train = []\n",
    "score_dev = []\n",
    "for r in tqdm(reg):\n",
    "    mlp = MLPClassifier(solver='lbfgs', alpha=r, hidden_layer_sizes=10, random_state=1)\n",
    "    mlp.fit(X_train_emb, Y_train)\n",
    "    score_train.append(mlp.score(X_train_emb, Y_train))\n",
    "    score_dev.append(mlp.score(X_dev_emb, Y_dev))"
   ]
  },
  {
   "cell_type": "code",
   "execution_count": 369,
   "metadata": {
    "scrolled": true
   },
   "outputs": [
    {
     "data": {
      "image/png": "[encoded data removed]",
      "text/plain": [
       "<Figure size 432x288 with 1 Axes>"
      ]
     },
     "metadata": {
      "needs_background": "light"
     },
     "output_type": "display_data"
    }
   ],
   "source": [
    "plt.figure()\n",
    "plt.title(\"Evolution of the accuracy w.r.t the regularization parameter\")\n",
    "plt.plot(reg, score_train, label='train')\n",
    "plt.plot(reg, score_dev, label='dev')\n",
    "plt.xlabel('Regularization parameter')\n",
    "plt.legend()\n",
    "plt.xscale('log')"
   ]
  },
  {
   "cell_type": "code",
   "execution_count": 370,
   "metadata": {},
   "outputs": [
    {
     "name": "stderr",
     "output_type": "stream",
     "text": [
      "100%|██████████| 10/10 [00:34<00:00,  3.73s/it]\n"
     ]
    }
   ],
   "source": [
    "r = 0.1\n",
    "\n",
    "# Size of the layer\n",
    "sizes = np.linspace(2, 15, 10)\n",
    "score_train = []\n",
    "score_dev = []\n",
    "for s in tqdm(sizes):\n",
    "    mlp = MLPClassifier(solver='lbfgs', alpha=r, hidden_layer_sizes=(int(s),), random_state=1)\n",
    "    mlp.fit(X_train_emb, Y_train)\n",
    "    score_train.append(mlp.score(X_train_emb, Y_train))\n",
    "    score_dev.append(mlp.score(X_dev_emb, Y_dev))"
   ]
  },
  {
   "cell_type": "code",
   "execution_count": 371,
   "metadata": {
    "scrolled": false
   },
   "outputs": [
    {
     "data": {
      "text/plain": [
       "<matplotlib.legend.Legend at 0x139980630>"
      ]
     },
     "execution_count": 371,
     "metadata": {},
     "output_type": "execute_result"
    },
    {
     "data": {
      "image/png": "[encoded data removed]",
      "text/plain": [
       "<Figure size 432x288 with 1 Axes>"
      ]
     },
     "metadata": {
      "needs_background": "light"
     },
     "output_type": "display_data"
    }
   ],
   "source": [
    "plt.figure()\n",
    "plt.title(\"Evolution of the accuracy w.r.t the size of the layer\")\n",
    "plt.plot(sizes, score_train, label='train')\n",
    "plt.plot(sizes, score_dev, label='dev')\n",
    "plt.xlabel('Size of the layer')\n",
    "plt.legend()"
   ]
  }
 ],
 "metadata": {
  "kernelspec": {
   "display_name": "DLenv",
   "language": "python",
   "name": "dlenv"
  },
  "language_info": {
   "codemirror_mode": {
    "name": "ipython",
    "version": 3
   },
   "file_extension": ".py",
   "mimetype": "text/x-python",
   "name": "python",
   "nbconvert_exporter": "python",
   "pygments_lexer": "ipython3",
   "version": "3.6.5"
  }
 },
 "nbformat": 4,
 "nbformat_minor": 1
}
